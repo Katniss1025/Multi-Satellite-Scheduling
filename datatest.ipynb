{
 "cells": [
  {
   "cell_type": "code",
   "execution_count": null,
   "outputs": [],
   "source": [
    "## 统计伽马暴、引力波等ToO事件"
   ],
   "metadata": {
    "collapsed": false,
    "pycharm": {
     "name": "#%%\n"
    }
   }
  },
  {
   "cell_type": "code",
   "execution_count": 6,
   "outputs": [
    {
     "data": {
      "text/plain": "        TrigNum        Date   Time UT             MesgType       RA     Dec  \\\n0     693644339  2022/12/25   6:58:54  GBM Flight Position  153.600  47.633   \n1     693644339  2022/12/25   6:58:54  GBM Flight Position  121.967  37.183   \n2     693552502  2022/12/24   5:28:18  GBM Flight Position   33.433 -35.733   \n3     693552502  2022/12/24   5:28:18  GBM Flight Position   36.633 -35.633   \n4     693552502  2022/12/24   5:28:18  GBM Ground Position    6.240  11.220   \n...         ...         ...       ...                  ...      ...     ...   \n7725  526502501    2017/9/7  18:41:36  GBM Flight Position  157.267  10.083   \n7726  526488497    2017/9/7  14:48:12  GBM Flight Position  173.067  12.783   \n7727  526488497    2017/9/7  14:48:12  GBM Flight Position  169.333  16.183   \n7728  526472211    2017/9/7  10:16:46  GBM Flight Position  139.317  25.600   \n7729  526440322    2017/9/7   1:25:17  GBM Flight Position  267.267 -61.517   \n\n      Error                                           Comments  \n0     50.00  Fermi-GBM Flight-calculated Coordinates. This ...  \n1     50.00  Fermi-GBM Flight-calculated Coordinates. This ...  \n2      3.70  Fermi-GBM Flight-calculated Coordinates. This ...  \n3      3.95  Fermi-GBM Flight-calculated Coordinates. This ...  \n4      2.34  Fermi-GBM Ground-calculated Coordinates. This ...  \n...     ...                                                ...  \n7725  19.70  Fermi-GBM Flight-calculated Coordinates. This ...  \n7726   8.65  Fermi-GBM Flight-calculated Coordinates. This ...  \n7727  13.33  Fermi-GBM Flight-calculated Coordinates. This ...  \n7728  14.07  Fermi-GBM Flight-calculated Coordinates. This ...  \n7729  50.00  Fermi-GBM Flight-calculated Coordinates. This ...  \n\n[7730 rows x 8 columns]",
      "text/html": "<div>\n<style scoped>\n    .dataframe tbody tr th:only-of-type {\n        vertical-align: middle;\n    }\n\n    .dataframe tbody tr th {\n        vertical-align: top;\n    }\n\n    .dataframe thead th {\n        text-align: right;\n    }\n</style>\n<table border=\"1\" class=\"dataframe\">\n  <thead>\n    <tr style=\"text-align: right;\">\n      <th></th>\n      <th>TrigNum</th>\n      <th>Date</th>\n      <th>Time UT</th>\n      <th>MesgType</th>\n      <th>RA</th>\n      <th>Dec</th>\n      <th>Error</th>\n      <th>Comments</th>\n    </tr>\n  </thead>\n  <tbody>\n    <tr>\n      <th>0</th>\n      <td>693644339</td>\n      <td>2022/12/25</td>\n      <td>6:58:54</td>\n      <td>GBM Flight Position</td>\n      <td>153.600</td>\n      <td>47.633</td>\n      <td>50.00</td>\n      <td>Fermi-GBM Flight-calculated Coordinates. This ...</td>\n    </tr>\n    <tr>\n      <th>1</th>\n      <td>693644339</td>\n      <td>2022/12/25</td>\n      <td>6:58:54</td>\n      <td>GBM Flight Position</td>\n      <td>121.967</td>\n      <td>37.183</td>\n      <td>50.00</td>\n      <td>Fermi-GBM Flight-calculated Coordinates. This ...</td>\n    </tr>\n    <tr>\n      <th>2</th>\n      <td>693552502</td>\n      <td>2022/12/24</td>\n      <td>5:28:18</td>\n      <td>GBM Flight Position</td>\n      <td>33.433</td>\n      <td>-35.733</td>\n      <td>3.70</td>\n      <td>Fermi-GBM Flight-calculated Coordinates. This ...</td>\n    </tr>\n    <tr>\n      <th>3</th>\n      <td>693552502</td>\n      <td>2022/12/24</td>\n      <td>5:28:18</td>\n      <td>GBM Flight Position</td>\n      <td>36.633</td>\n      <td>-35.633</td>\n      <td>3.95</td>\n      <td>Fermi-GBM Flight-calculated Coordinates. This ...</td>\n    </tr>\n    <tr>\n      <th>4</th>\n      <td>693552502</td>\n      <td>2022/12/24</td>\n      <td>5:28:18</td>\n      <td>GBM Ground Position</td>\n      <td>6.240</td>\n      <td>11.220</td>\n      <td>2.34</td>\n      <td>Fermi-GBM Ground-calculated Coordinates. This ...</td>\n    </tr>\n    <tr>\n      <th>...</th>\n      <td>...</td>\n      <td>...</td>\n      <td>...</td>\n      <td>...</td>\n      <td>...</td>\n      <td>...</td>\n      <td>...</td>\n      <td>...</td>\n    </tr>\n    <tr>\n      <th>7725</th>\n      <td>526502501</td>\n      <td>2017/9/7</td>\n      <td>18:41:36</td>\n      <td>GBM Flight Position</td>\n      <td>157.267</td>\n      <td>10.083</td>\n      <td>19.70</td>\n      <td>Fermi-GBM Flight-calculated Coordinates. This ...</td>\n    </tr>\n    <tr>\n      <th>7726</th>\n      <td>526488497</td>\n      <td>2017/9/7</td>\n      <td>14:48:12</td>\n      <td>GBM Flight Position</td>\n      <td>173.067</td>\n      <td>12.783</td>\n      <td>8.65</td>\n      <td>Fermi-GBM Flight-calculated Coordinates. This ...</td>\n    </tr>\n    <tr>\n      <th>7727</th>\n      <td>526488497</td>\n      <td>2017/9/7</td>\n      <td>14:48:12</td>\n      <td>GBM Flight Position</td>\n      <td>169.333</td>\n      <td>16.183</td>\n      <td>13.33</td>\n      <td>Fermi-GBM Flight-calculated Coordinates. This ...</td>\n    </tr>\n    <tr>\n      <th>7728</th>\n      <td>526472211</td>\n      <td>2017/9/7</td>\n      <td>10:16:46</td>\n      <td>GBM Flight Position</td>\n      <td>139.317</td>\n      <td>25.600</td>\n      <td>14.07</td>\n      <td>Fermi-GBM Flight-calculated Coordinates. This ...</td>\n    </tr>\n    <tr>\n      <th>7729</th>\n      <td>526440322</td>\n      <td>2017/9/7</td>\n      <td>1:25:17</td>\n      <td>GBM Flight Position</td>\n      <td>267.267</td>\n      <td>-61.517</td>\n      <td>50.00</td>\n      <td>Fermi-GBM Flight-calculated Coordinates. This ...</td>\n    </tr>\n  </tbody>\n</table>\n<p>7730 rows × 8 columns</p>\n</div>"
     },
     "execution_count": 6,
     "metadata": {},
     "output_type": "execute_result"
    }
   ],
   "source": [
    "import math\n",
    "\n",
    "import numpy as np\n",
    "import pandas as pd\n",
    "import pandas as po\n",
    "\n",
    "df = pd.read_csv('./data/Fermi1.csv',encoding='utf-8')\n",
    "df\n"
   ],
   "metadata": {
    "collapsed": false,
    "pycharm": {
     "name": "#%%\n"
    }
   }
  },
  {
   "cell_type": "code",
   "execution_count": 7,
   "outputs": [
    {
     "data": {
      "text/plain": "        TrigNum        Date   Time UT             MesgType       RA     Dec  \\\n0     693644339  2022/12/25   6:58:54  GBM Flight Position  153.600  47.633   \n1     693644339  2022/12/25   6:58:54  GBM Flight Position  121.967  37.183   \n2     693552502  2022/12/24   5:28:18  GBM Flight Position   33.433 -35.733   \n3     693552502  2022/12/24   5:28:18  GBM Flight Position   36.633 -35.633   \n4     693552502  2022/12/24   5:28:18  GBM Ground Position    6.240  11.220   \n...         ...         ...       ...                  ...      ...     ...   \n7725  526502501    2017/9/7  18:41:36  GBM Flight Position  157.267  10.083   \n7726  526488497    2017/9/7  14:48:12  GBM Flight Position  173.067  12.783   \n7727  526488497    2017/9/7  14:48:12  GBM Flight Position  169.333  16.183   \n7728  526472211    2017/9/7  10:16:46  GBM Flight Position  139.317  25.600   \n7729  526440322    2017/9/7   1:25:17  GBM Flight Position  267.267 -61.517   \n\n      Error                                           Comments  \n0     50.00  Fermi-GBM Flight-calculated Coordinates. This ...  \n1     50.00  Fermi-GBM Flight-calculated Coordinates. This ...  \n2      3.70  Fermi-GBM Flight-calculated Coordinates. This ...  \n3      3.95  Fermi-GBM Flight-calculated Coordinates. This ...  \n4      2.34  Fermi-GBM Ground-calculated Coordinates. This ...  \n...     ...                                                ...  \n7725  19.70  Fermi-GBM Flight-calculated Coordinates. This ...  \n7726   8.65  Fermi-GBM Flight-calculated Coordinates. This ...  \n7727  13.33  Fermi-GBM Flight-calculated Coordinates. This ...  \n7728  14.07  Fermi-GBM Flight-calculated Coordinates. This ...  \n7729  50.00  Fermi-GBM Flight-calculated Coordinates. This ...  \n\n[7730 rows x 8 columns]",
      "text/html": "<div>\n<style scoped>\n    .dataframe tbody tr th:only-of-type {\n        vertical-align: middle;\n    }\n\n    .dataframe tbody tr th {\n        vertical-align: top;\n    }\n\n    .dataframe thead th {\n        text-align: right;\n    }\n</style>\n<table border=\"1\" class=\"dataframe\">\n  <thead>\n    <tr style=\"text-align: right;\">\n      <th></th>\n      <th>TrigNum</th>\n      <th>Date</th>\n      <th>Time UT</th>\n      <th>MesgType</th>\n      <th>RA</th>\n      <th>Dec</th>\n      <th>Error</th>\n      <th>Comments</th>\n    </tr>\n  </thead>\n  <tbody>\n    <tr>\n      <th>0</th>\n      <td>693644339</td>\n      <td>2022/12/25</td>\n      <td>6:58:54</td>\n      <td>GBM Flight Position</td>\n      <td>153.600</td>\n      <td>47.633</td>\n      <td>50.00</td>\n      <td>Fermi-GBM Flight-calculated Coordinates. This ...</td>\n    </tr>\n    <tr>\n      <th>1</th>\n      <td>693644339</td>\n      <td>2022/12/25</td>\n      <td>6:58:54</td>\n      <td>GBM Flight Position</td>\n      <td>121.967</td>\n      <td>37.183</td>\n      <td>50.00</td>\n      <td>Fermi-GBM Flight-calculated Coordinates. This ...</td>\n    </tr>\n    <tr>\n      <th>2</th>\n      <td>693552502</td>\n      <td>2022/12/24</td>\n      <td>5:28:18</td>\n      <td>GBM Flight Position</td>\n      <td>33.433</td>\n      <td>-35.733</td>\n      <td>3.70</td>\n      <td>Fermi-GBM Flight-calculated Coordinates. This ...</td>\n    </tr>\n    <tr>\n      <th>3</th>\n      <td>693552502</td>\n      <td>2022/12/24</td>\n      <td>5:28:18</td>\n      <td>GBM Flight Position</td>\n      <td>36.633</td>\n      <td>-35.633</td>\n      <td>3.95</td>\n      <td>Fermi-GBM Flight-calculated Coordinates. This ...</td>\n    </tr>\n    <tr>\n      <th>4</th>\n      <td>693552502</td>\n      <td>2022/12/24</td>\n      <td>5:28:18</td>\n      <td>GBM Ground Position</td>\n      <td>6.240</td>\n      <td>11.220</td>\n      <td>2.34</td>\n      <td>Fermi-GBM Ground-calculated Coordinates. This ...</td>\n    </tr>\n    <tr>\n      <th>...</th>\n      <td>...</td>\n      <td>...</td>\n      <td>...</td>\n      <td>...</td>\n      <td>...</td>\n      <td>...</td>\n      <td>...</td>\n      <td>...</td>\n    </tr>\n    <tr>\n      <th>7725</th>\n      <td>526502501</td>\n      <td>2017/9/7</td>\n      <td>18:41:36</td>\n      <td>GBM Flight Position</td>\n      <td>157.267</td>\n      <td>10.083</td>\n      <td>19.70</td>\n      <td>Fermi-GBM Flight-calculated Coordinates. This ...</td>\n    </tr>\n    <tr>\n      <th>7726</th>\n      <td>526488497</td>\n      <td>2017/9/7</td>\n      <td>14:48:12</td>\n      <td>GBM Flight Position</td>\n      <td>173.067</td>\n      <td>12.783</td>\n      <td>8.65</td>\n      <td>Fermi-GBM Flight-calculated Coordinates. This ...</td>\n    </tr>\n    <tr>\n      <th>7727</th>\n      <td>526488497</td>\n      <td>2017/9/7</td>\n      <td>14:48:12</td>\n      <td>GBM Flight Position</td>\n      <td>169.333</td>\n      <td>16.183</td>\n      <td>13.33</td>\n      <td>Fermi-GBM Flight-calculated Coordinates. This ...</td>\n    </tr>\n    <tr>\n      <th>7728</th>\n      <td>526472211</td>\n      <td>2017/9/7</td>\n      <td>10:16:46</td>\n      <td>GBM Flight Position</td>\n      <td>139.317</td>\n      <td>25.600</td>\n      <td>14.07</td>\n      <td>Fermi-GBM Flight-calculated Coordinates. This ...</td>\n    </tr>\n    <tr>\n      <th>7729</th>\n      <td>526440322</td>\n      <td>2017/9/7</td>\n      <td>1:25:17</td>\n      <td>GBM Flight Position</td>\n      <td>267.267</td>\n      <td>-61.517</td>\n      <td>50.00</td>\n      <td>Fermi-GBM Flight-calculated Coordinates. This ...</td>\n    </tr>\n  </tbody>\n</table>\n<p>7730 rows × 8 columns</p>\n</div>"
     },
     "execution_count": 7,
     "metadata": {},
     "output_type": "execute_result"
    }
   ],
   "source": [
    "df[df['Error']>=0]"
   ],
   "metadata": {
    "collapsed": false,
    "pycharm": {
     "name": "#%%\n"
    }
   }
  },
  {
   "cell_type": "code",
   "execution_count": 8,
   "outputs": [
    {
     "data": {
      "text/plain": "0      2022-12-25\n1      2022-12-25\n2      2022-12-24\n3      2022-12-24\n4      2022-12-24\n          ...    \n7725   2017-09-07\n7726   2017-09-07\n7727   2017-09-07\n7728   2017-09-07\n7729   2017-09-07\nName: Date, Length: 7730, dtype: datetime64[ns]"
     },
     "execution_count": 8,
     "metadata": {},
     "output_type": "execute_result"
    }
   ],
   "source": [
    "import datetime\n",
    "df['Date']=df[\"Date\"].astype('datetime64[ns]')  #如果已为日期格式则此步骤可省略\n",
    "df['Date']\n",
    "# s_date = datetime.datetime.strptime('2020-04-30', '%Y-%m-%d').date()  #起始日期\n",
    "# e_date = datetime.datetime.strptime('2020-06-01', '%Y-%m-%d').date()  #结束日期"
   ],
   "metadata": {
    "collapsed": false,
    "pycharm": {
     "name": "#%%\n"
    }
   }
  },
  {
   "cell_type": "code",
   "execution_count": 9,
   "outputs": [
    {
     "data": {
      "text/plain": "        TrigNum       Date   Time UT             MesgType       RA     Dec  \\\n1594  662626836 2021-12-31   7:00:32   GBM Final Position  292.170 -24.920   \n1595  662626836 2021-12-31   7:00:32  GBM Ground Position  289.570 -17.280   \n1596  662626836 2021-12-31   7:00:32  GBM Ground Position  292.070 -16.330   \n1597  662626836 2021-12-31   7:00:32  GBM Flight Position  292.000 -16.333   \n1598  662626836 2021-12-31   7:00:32  GBM Flight Position  282.400 -13.383   \n...         ...        ...       ...                  ...      ...     ...   \n2839  631205591 2021-01-01  14:53:07   GBM Final Position  136.700  50.100   \n2840  631205591 2021-01-01  14:53:07  GBM Ground Position  148.320  27.230   \n2841  631205591 2021-01-01  14:53:07  GBM Flight Position  150.533  51.833   \n2842  631205591 2021-01-01  14:53:07  GBM Ground Position  146.880  29.110   \n2843  631205591 2021-01-01  14:53:07  GBM Flight Position  150.117  51.117   \n\n      Error                                           Comments  \n1594   1.76  Fermi-GBM Final Position. This Notice was grou...  \n1595   2.02  Fermi-GBM Ground-calculated Coordinates. This ...  \n1596   4.26  Fermi-GBM Ground-calculated Coordinates. This ...  \n1597   5.38  Fermi-GBM Flight-calculated Coordinates. This ...  \n1598  22.92  Fermi-GBM Flight-calculated Coordinates. This ...  \n...     ...                                                ...  \n2839   4.56  Fermi-GBM Final Position. This Notice was grou...  \n2840   8.14  Fermi-GBM Ground-calculated Coordinates. This ...  \n2841   8.78  Fermi-GBM Flight-calculated Coordinates. The L...  \n2842   8.54  Fermi-GBM Ground-calculated Coordinates. This ...  \n2843  17.20  Fermi-GBM Flight-calculated Coordinates. The L...  \n\n[1250 rows x 8 columns]",
      "text/html": "<div>\n<style scoped>\n    .dataframe tbody tr th:only-of-type {\n        vertical-align: middle;\n    }\n\n    .dataframe tbody tr th {\n        vertical-align: top;\n    }\n\n    .dataframe thead th {\n        text-align: right;\n    }\n</style>\n<table border=\"1\" class=\"dataframe\">\n  <thead>\n    <tr style=\"text-align: right;\">\n      <th></th>\n      <th>TrigNum</th>\n      <th>Date</th>\n      <th>Time UT</th>\n      <th>MesgType</th>\n      <th>RA</th>\n      <th>Dec</th>\n      <th>Error</th>\n      <th>Comments</th>\n    </tr>\n  </thead>\n  <tbody>\n    <tr>\n      <th>1594</th>\n      <td>662626836</td>\n      <td>2021-12-31</td>\n      <td>7:00:32</td>\n      <td>GBM Final Position</td>\n      <td>292.170</td>\n      <td>-24.920</td>\n      <td>1.76</td>\n      <td>Fermi-GBM Final Position. This Notice was grou...</td>\n    </tr>\n    <tr>\n      <th>1595</th>\n      <td>662626836</td>\n      <td>2021-12-31</td>\n      <td>7:00:32</td>\n      <td>GBM Ground Position</td>\n      <td>289.570</td>\n      <td>-17.280</td>\n      <td>2.02</td>\n      <td>Fermi-GBM Ground-calculated Coordinates. This ...</td>\n    </tr>\n    <tr>\n      <th>1596</th>\n      <td>662626836</td>\n      <td>2021-12-31</td>\n      <td>7:00:32</td>\n      <td>GBM Ground Position</td>\n      <td>292.070</td>\n      <td>-16.330</td>\n      <td>4.26</td>\n      <td>Fermi-GBM Ground-calculated Coordinates. This ...</td>\n    </tr>\n    <tr>\n      <th>1597</th>\n      <td>662626836</td>\n      <td>2021-12-31</td>\n      <td>7:00:32</td>\n      <td>GBM Flight Position</td>\n      <td>292.000</td>\n      <td>-16.333</td>\n      <td>5.38</td>\n      <td>Fermi-GBM Flight-calculated Coordinates. This ...</td>\n    </tr>\n    <tr>\n      <th>1598</th>\n      <td>662626836</td>\n      <td>2021-12-31</td>\n      <td>7:00:32</td>\n      <td>GBM Flight Position</td>\n      <td>282.400</td>\n      <td>-13.383</td>\n      <td>22.92</td>\n      <td>Fermi-GBM Flight-calculated Coordinates. This ...</td>\n    </tr>\n    <tr>\n      <th>...</th>\n      <td>...</td>\n      <td>...</td>\n      <td>...</td>\n      <td>...</td>\n      <td>...</td>\n      <td>...</td>\n      <td>...</td>\n      <td>...</td>\n    </tr>\n    <tr>\n      <th>2839</th>\n      <td>631205591</td>\n      <td>2021-01-01</td>\n      <td>14:53:07</td>\n      <td>GBM Final Position</td>\n      <td>136.700</td>\n      <td>50.100</td>\n      <td>4.56</td>\n      <td>Fermi-GBM Final Position. This Notice was grou...</td>\n    </tr>\n    <tr>\n      <th>2840</th>\n      <td>631205591</td>\n      <td>2021-01-01</td>\n      <td>14:53:07</td>\n      <td>GBM Ground Position</td>\n      <td>148.320</td>\n      <td>27.230</td>\n      <td>8.14</td>\n      <td>Fermi-GBM Ground-calculated Coordinates. This ...</td>\n    </tr>\n    <tr>\n      <th>2841</th>\n      <td>631205591</td>\n      <td>2021-01-01</td>\n      <td>14:53:07</td>\n      <td>GBM Flight Position</td>\n      <td>150.533</td>\n      <td>51.833</td>\n      <td>8.78</td>\n      <td>Fermi-GBM Flight-calculated Coordinates. The L...</td>\n    </tr>\n    <tr>\n      <th>2842</th>\n      <td>631205591</td>\n      <td>2021-01-01</td>\n      <td>14:53:07</td>\n      <td>GBM Ground Position</td>\n      <td>146.880</td>\n      <td>29.110</td>\n      <td>8.54</td>\n      <td>Fermi-GBM Ground-calculated Coordinates. This ...</td>\n    </tr>\n    <tr>\n      <th>2843</th>\n      <td>631205591</td>\n      <td>2021-01-01</td>\n      <td>14:53:07</td>\n      <td>GBM Flight Position</td>\n      <td>150.117</td>\n      <td>51.117</td>\n      <td>17.20</td>\n      <td>Fermi-GBM Flight-calculated Coordinates. The L...</td>\n    </tr>\n  </tbody>\n</table>\n<p>1250 rows × 8 columns</p>\n</div>"
     },
     "execution_count": 9,
     "metadata": {},
     "output_type": "execute_result"
    }
   ],
   "source": [
    "df2 = df[(df['Date']>='2021-01-01')& (df['Date']<='2021-12-31')]\n",
    "df2"
   ],
   "metadata": {
    "collapsed": false,
    "pycharm": {
     "name": "#%%\n"
    }
   }
  },
  {
   "cell_type": "code",
   "execution_count": 10,
   "outputs": [
    {
     "data": {
      "text/plain": "        TrigNum       Date   Time UT             MesgType       RA     Dec  \\\n1850  656315976 2021-10-19   5:59:31   GBM Final Position  109.560 -39.190   \n2026  652927551 2021-09-10   0:45:47   GBM Final Position  301.700  17.760   \n2027  652927551 2021-09-10   0:45:47  GBM Ground Position  301.710  17.780   \n2648  638308803 2021-03-24  19:59:58  GBM Ground Position   39.170 -45.250   \n2028  652927551 2021-09-10   0:45:47  GBM Ground Position  301.710  17.780   \n...         ...        ...       ...                  ...      ...     ...   \n1749  658710179 2021-11-15  23:02:55  GBM Flight Position  192.950  77.383   \n1809  657502760 2021-11-01  23:39:15  GBM Flight Position  172.383  18.233   \n2584  640303939 2021-04-16  22:12:15  GBM Flight Position  271.300 -43.833   \n1790  657707352 2021-11-04   8:29:08  GBM Flight Position   63.983  78.233   \n1789  657707352 2021-11-04   8:29:08  GBM Flight Position   64.617  78.100   \n\n      Error                                           Comments  \n1850    1.0  Fermi-GBM Final Position. This Notice was grou...  \n2026    1.0  Fermi-GBM Final Position. This Notice was grou...  \n2027    1.0  Fermi-GBM Ground-calculated Coordinates. This ...  \n2648    1.0  Fermi-GBM Ground-calculated Coordinates. In th...  \n2028    1.0  Fermi-GBM Ground-calculated Coordinates. This ...  \n...     ...                                                ...  \n1749   50.0  Fermi-GBM Flight-calculated Coordinates. This ...  \n1809   50.0  Fermi-GBM Flight-calculated Coordinates. This ...  \n2584   50.0  Fermi-GBM Flight-calculated Coordinates. This ...  \n1790   50.0  Fermi-GBM Flight-calculated Coordinates. This ...  \n1789   50.0  Fermi-GBM Flight-calculated Coordinates. This ...  \n\n[1250 rows x 8 columns]",
      "text/html": "<div>\n<style scoped>\n    .dataframe tbody tr th:only-of-type {\n        vertical-align: middle;\n    }\n\n    .dataframe tbody tr th {\n        vertical-align: top;\n    }\n\n    .dataframe thead th {\n        text-align: right;\n    }\n</style>\n<table border=\"1\" class=\"dataframe\">\n  <thead>\n    <tr style=\"text-align: right;\">\n      <th></th>\n      <th>TrigNum</th>\n      <th>Date</th>\n      <th>Time UT</th>\n      <th>MesgType</th>\n      <th>RA</th>\n      <th>Dec</th>\n      <th>Error</th>\n      <th>Comments</th>\n    </tr>\n  </thead>\n  <tbody>\n    <tr>\n      <th>1850</th>\n      <td>656315976</td>\n      <td>2021-10-19</td>\n      <td>5:59:31</td>\n      <td>GBM Final Position</td>\n      <td>109.560</td>\n      <td>-39.190</td>\n      <td>1.0</td>\n      <td>Fermi-GBM Final Position. This Notice was grou...</td>\n    </tr>\n    <tr>\n      <th>2026</th>\n      <td>652927551</td>\n      <td>2021-09-10</td>\n      <td>0:45:47</td>\n      <td>GBM Final Position</td>\n      <td>301.700</td>\n      <td>17.760</td>\n      <td>1.0</td>\n      <td>Fermi-GBM Final Position. This Notice was grou...</td>\n    </tr>\n    <tr>\n      <th>2027</th>\n      <td>652927551</td>\n      <td>2021-09-10</td>\n      <td>0:45:47</td>\n      <td>GBM Ground Position</td>\n      <td>301.710</td>\n      <td>17.780</td>\n      <td>1.0</td>\n      <td>Fermi-GBM Ground-calculated Coordinates. This ...</td>\n    </tr>\n    <tr>\n      <th>2648</th>\n      <td>638308803</td>\n      <td>2021-03-24</td>\n      <td>19:59:58</td>\n      <td>GBM Ground Position</td>\n      <td>39.170</td>\n      <td>-45.250</td>\n      <td>1.0</td>\n      <td>Fermi-GBM Ground-calculated Coordinates. In th...</td>\n    </tr>\n    <tr>\n      <th>2028</th>\n      <td>652927551</td>\n      <td>2021-09-10</td>\n      <td>0:45:47</td>\n      <td>GBM Ground Position</td>\n      <td>301.710</td>\n      <td>17.780</td>\n      <td>1.0</td>\n      <td>Fermi-GBM Ground-calculated Coordinates. This ...</td>\n    </tr>\n    <tr>\n      <th>...</th>\n      <td>...</td>\n      <td>...</td>\n      <td>...</td>\n      <td>...</td>\n      <td>...</td>\n      <td>...</td>\n      <td>...</td>\n      <td>...</td>\n    </tr>\n    <tr>\n      <th>1749</th>\n      <td>658710179</td>\n      <td>2021-11-15</td>\n      <td>23:02:55</td>\n      <td>GBM Flight Position</td>\n      <td>192.950</td>\n      <td>77.383</td>\n      <td>50.0</td>\n      <td>Fermi-GBM Flight-calculated Coordinates. This ...</td>\n    </tr>\n    <tr>\n      <th>1809</th>\n      <td>657502760</td>\n      <td>2021-11-01</td>\n      <td>23:39:15</td>\n      <td>GBM Flight Position</td>\n      <td>172.383</td>\n      <td>18.233</td>\n      <td>50.0</td>\n      <td>Fermi-GBM Flight-calculated Coordinates. This ...</td>\n    </tr>\n    <tr>\n      <th>2584</th>\n      <td>640303939</td>\n      <td>2021-04-16</td>\n      <td>22:12:15</td>\n      <td>GBM Flight Position</td>\n      <td>271.300</td>\n      <td>-43.833</td>\n      <td>50.0</td>\n      <td>Fermi-GBM Flight-calculated Coordinates. This ...</td>\n    </tr>\n    <tr>\n      <th>1790</th>\n      <td>657707352</td>\n      <td>2021-11-04</td>\n      <td>8:29:08</td>\n      <td>GBM Flight Position</td>\n      <td>63.983</td>\n      <td>78.233</td>\n      <td>50.0</td>\n      <td>Fermi-GBM Flight-calculated Coordinates. This ...</td>\n    </tr>\n    <tr>\n      <th>1789</th>\n      <td>657707352</td>\n      <td>2021-11-04</td>\n      <td>8:29:08</td>\n      <td>GBM Flight Position</td>\n      <td>64.617</td>\n      <td>78.100</td>\n      <td>50.0</td>\n      <td>Fermi-GBM Flight-calculated Coordinates. This ...</td>\n    </tr>\n  </tbody>\n</table>\n<p>1250 rows × 8 columns</p>\n</div>"
     },
     "execution_count": 10,
     "metadata": {},
     "output_type": "execute_result"
    }
   ],
   "source": [
    "df2 = df2.sort_values(by='Error')\n",
    "df2"
   ],
   "metadata": {
    "collapsed": false,
    "pycharm": {
     "name": "#%%\n"
    }
   }
  },
  {
   "cell_type": "code",
   "execution_count": 11,
   "outputs": [
    {
     "data": {
      "text/plain": "        TrigNum       Date   Time UT             MesgType       RA     Dec  \\\n2839  631205591 2021-01-01  14:53:07   GBM Final Position  136.700  50.100   \n2838  631226368 2021-01-01  20:39:24   GBM Final Position   10.300  -6.910   \n2833  631312759 2021-01-02  20:39:14  GBM Ground Position  232.700 -27.540   \n2827  631452424 2021-01-04  11:27:00  GBM Ground Position  110.770  68.720   \n2822  631555390 2021-01-05  16:03:06   GBM Final Position   70.990 -36.830   \n...         ...        ...       ...                  ...      ...     ...   \n1606  662163745 2021-12-25  22:22:20  GBM Flight Position  139.200  58.983   \n1605  662216114 2021-12-26  12:55:10  GBM Flight Position  293.683  13.450   \n1599  662509128 2021-12-29  22:18:43   GBM Final Position  185.000 -18.420   \n1601  662441360 2021-12-29   3:29:16   GBM Final Position  294.980  22.910   \n1594  662626836 2021-12-31   7:00:32   GBM Final Position  292.170 -24.920   \n\n      Error                                           Comments  \n2839   4.56  Fermi-GBM Final Position. This Notice was grou...  \n2838   5.18  Fermi-GBM Final Position. This Notice was grou...  \n2833   2.55  Fermi-GBM Ground-calculated Coordinates. This ...  \n2827   2.53  Fermi-GBM Ground-calculated Coordinates. This ...  \n2822   9.61  Fermi-GBM Final Position. This Notice was grou...  \n...     ...                                                ...  \n1606  32.70  Fermi-GBM Flight-calculated Coordinates. This ...  \n1605  26.30  Fermi-GBM Flight-calculated Coordinates. This ...  \n1599   1.09  Fermi-GBM Final Position. This Notice was grou...  \n1601   3.74  Fermi-GBM Final Position. This Notice was grou...  \n1594   1.76  Fermi-GBM Final Position. This Notice was grou...  \n\n[452 rows x 8 columns]",
      "text/html": "<div>\n<style scoped>\n    .dataframe tbody tr th:only-of-type {\n        vertical-align: middle;\n    }\n\n    .dataframe tbody tr th {\n        vertical-align: top;\n    }\n\n    .dataframe thead th {\n        text-align: right;\n    }\n</style>\n<table border=\"1\" class=\"dataframe\">\n  <thead>\n    <tr style=\"text-align: right;\">\n      <th></th>\n      <th>TrigNum</th>\n      <th>Date</th>\n      <th>Time UT</th>\n      <th>MesgType</th>\n      <th>RA</th>\n      <th>Dec</th>\n      <th>Error</th>\n      <th>Comments</th>\n    </tr>\n  </thead>\n  <tbody>\n    <tr>\n      <th>2839</th>\n      <td>631205591</td>\n      <td>2021-01-01</td>\n      <td>14:53:07</td>\n      <td>GBM Final Position</td>\n      <td>136.700</td>\n      <td>50.100</td>\n      <td>4.56</td>\n      <td>Fermi-GBM Final Position. This Notice was grou...</td>\n    </tr>\n    <tr>\n      <th>2838</th>\n      <td>631226368</td>\n      <td>2021-01-01</td>\n      <td>20:39:24</td>\n      <td>GBM Final Position</td>\n      <td>10.300</td>\n      <td>-6.910</td>\n      <td>5.18</td>\n      <td>Fermi-GBM Final Position. This Notice was grou...</td>\n    </tr>\n    <tr>\n      <th>2833</th>\n      <td>631312759</td>\n      <td>2021-01-02</td>\n      <td>20:39:14</td>\n      <td>GBM Ground Position</td>\n      <td>232.700</td>\n      <td>-27.540</td>\n      <td>2.55</td>\n      <td>Fermi-GBM Ground-calculated Coordinates. This ...</td>\n    </tr>\n    <tr>\n      <th>2827</th>\n      <td>631452424</td>\n      <td>2021-01-04</td>\n      <td>11:27:00</td>\n      <td>GBM Ground Position</td>\n      <td>110.770</td>\n      <td>68.720</td>\n      <td>2.53</td>\n      <td>Fermi-GBM Ground-calculated Coordinates. This ...</td>\n    </tr>\n    <tr>\n      <th>2822</th>\n      <td>631555390</td>\n      <td>2021-01-05</td>\n      <td>16:03:06</td>\n      <td>GBM Final Position</td>\n      <td>70.990</td>\n      <td>-36.830</td>\n      <td>9.61</td>\n      <td>Fermi-GBM Final Position. This Notice was grou...</td>\n    </tr>\n    <tr>\n      <th>...</th>\n      <td>...</td>\n      <td>...</td>\n      <td>...</td>\n      <td>...</td>\n      <td>...</td>\n      <td>...</td>\n      <td>...</td>\n      <td>...</td>\n    </tr>\n    <tr>\n      <th>1606</th>\n      <td>662163745</td>\n      <td>2021-12-25</td>\n      <td>22:22:20</td>\n      <td>GBM Flight Position</td>\n      <td>139.200</td>\n      <td>58.983</td>\n      <td>32.70</td>\n      <td>Fermi-GBM Flight-calculated Coordinates. This ...</td>\n    </tr>\n    <tr>\n      <th>1605</th>\n      <td>662216114</td>\n      <td>2021-12-26</td>\n      <td>12:55:10</td>\n      <td>GBM Flight Position</td>\n      <td>293.683</td>\n      <td>13.450</td>\n      <td>26.30</td>\n      <td>Fermi-GBM Flight-calculated Coordinates. This ...</td>\n    </tr>\n    <tr>\n      <th>1599</th>\n      <td>662509128</td>\n      <td>2021-12-29</td>\n      <td>22:18:43</td>\n      <td>GBM Final Position</td>\n      <td>185.000</td>\n      <td>-18.420</td>\n      <td>1.09</td>\n      <td>Fermi-GBM Final Position. This Notice was grou...</td>\n    </tr>\n    <tr>\n      <th>1601</th>\n      <td>662441360</td>\n      <td>2021-12-29</td>\n      <td>3:29:16</td>\n      <td>GBM Final Position</td>\n      <td>294.980</td>\n      <td>22.910</td>\n      <td>3.74</td>\n      <td>Fermi-GBM Final Position. This Notice was grou...</td>\n    </tr>\n    <tr>\n      <th>1594</th>\n      <td>662626836</td>\n      <td>2021-12-31</td>\n      <td>7:00:32</td>\n      <td>GBM Final Position</td>\n      <td>292.170</td>\n      <td>-24.920</td>\n      <td>1.76</td>\n      <td>Fermi-GBM Final Position. This Notice was grou...</td>\n    </tr>\n  </tbody>\n</table>\n<p>452 rows × 8 columns</p>\n</div>"
     },
     "execution_count": 11,
     "metadata": {},
     "output_type": "execute_result"
    }
   ],
   "source": [
    "# df2['TrigNum'].duplicated()\n",
    "df2.drop_duplicates('TrigNum',keep='first',inplace=True)\n",
    "df2 = df2.sort_values(by='Date')\n",
    "df2"
   ],
   "metadata": {
    "collapsed": false,
    "pycharm": {
     "name": "#%%\n"
    }
   }
  },
  {
   "cell_type": "code",
   "execution_count": 12,
   "outputs": [],
   "source": [
    "df2 = df2.reset_index(drop=True)\n",
    "df2.to_csv('Fermi2021.csv')"
   ],
   "metadata": {
    "collapsed": false,
    "pycharm": {
     "name": "#%%\n"
    }
   }
  },
  {
   "cell_type": "code",
   "execution_count": 78,
   "outputs": [],
   "source": [
    "#####INTEGRAL"
   ],
   "metadata": {
    "collapsed": false,
    "pycharm": {
     "name": "#%%\n"
    }
   }
  },
  {
   "cell_type": "code",
   "execution_count": 22,
   "outputs": [
    {
     "data": {
      "text/plain": "                                           Trig,SubNums        Date   Time UT  \\\n0                                               10135,0  2022/12/24  15:16:05   \n1                                               10134,0  2022/12/21  17:18:12   \n2                                               10133,0  2022/12/18   9:49:49   \n3                                               10132,3  2022/12/18   8:15:52   \n4                                               10132,2  2022/12/18   8:15:52   \n...                                                 ...         ...       ...   \n2892                                                NaN         NaN       NaN   \n2893                                                NaN         NaN       NaN   \n2894  This file is continuously modified by the gcn ...         NaN       NaN   \n2895                                                NaN         NaN       NaN   \n2896  This file was last modified by a human on 25-M...         NaN       NaN   \n\n         Mesg        RA      Dec  Error  Inten  \\\n0        Weak  301.8998  27.0442   3.77   6.12   \n1        Weak  193.0915 -50.4543   3.58   6.74   \n2        Weak  357.6972  -7.9894   3.52   6.97   \n3     Offline  350.6500  -4.2607   3.00  22.35   \n4      Refine  350.6500  -4.2607   2.62  22.35   \n...       ...       ...      ...    ...    ...   \n2892      NaN       NaN      NaN    NaN    NaN   \n2893      NaN       NaN      NaN    NaN    NaN   \n2894      NaN       NaN      NaN    NaN    NaN   \n2895      NaN       NaN      NaN    NaN    NaN   \n2896      NaN       NaN      NaN    NaN    NaN   \n\n                                               Comments  \n0     INTEGRAL GRB Coordinates -- this is the weak/s...  \n1     INTEGRAL GRB Coordinates -- this is the weak/s...  \n2     INTEGRAL GRB Coordinates -- this is the weak/s...  \n3     INTEGRAL GRB Coordinates. Time_Scale=50.0000 a...  \n4     INTEGRAL GRB Coordinates. Time_Scale=50.0000 a...  \n...                                                 ...  \n2892                                                NaN  \n2893                                                NaN  \n2894                                                NaN  \n2895                                                NaN  \n2896                                                NaN  \n\n[2897 rows x 9 columns]",
      "text/html": "<div>\n<style scoped>\n    .dataframe tbody tr th:only-of-type {\n        vertical-align: middle;\n    }\n\n    .dataframe tbody tr th {\n        vertical-align: top;\n    }\n\n    .dataframe thead th {\n        text-align: right;\n    }\n</style>\n<table border=\"1\" class=\"dataframe\">\n  <thead>\n    <tr style=\"text-align: right;\">\n      <th></th>\n      <th>Trig,SubNums</th>\n      <th>Date</th>\n      <th>Time UT</th>\n      <th>Mesg</th>\n      <th>RA</th>\n      <th>Dec</th>\n      <th>Error</th>\n      <th>Inten</th>\n      <th>Comments</th>\n    </tr>\n  </thead>\n  <tbody>\n    <tr>\n      <th>0</th>\n      <td>10135,0</td>\n      <td>2022/12/24</td>\n      <td>15:16:05</td>\n      <td>Weak</td>\n      <td>301.8998</td>\n      <td>27.0442</td>\n      <td>3.77</td>\n      <td>6.12</td>\n      <td>INTEGRAL GRB Coordinates -- this is the weak/s...</td>\n    </tr>\n    <tr>\n      <th>1</th>\n      <td>10134,0</td>\n      <td>2022/12/21</td>\n      <td>17:18:12</td>\n      <td>Weak</td>\n      <td>193.0915</td>\n      <td>-50.4543</td>\n      <td>3.58</td>\n      <td>6.74</td>\n      <td>INTEGRAL GRB Coordinates -- this is the weak/s...</td>\n    </tr>\n    <tr>\n      <th>2</th>\n      <td>10133,0</td>\n      <td>2022/12/18</td>\n      <td>9:49:49</td>\n      <td>Weak</td>\n      <td>357.6972</td>\n      <td>-7.9894</td>\n      <td>3.52</td>\n      <td>6.97</td>\n      <td>INTEGRAL GRB Coordinates -- this is the weak/s...</td>\n    </tr>\n    <tr>\n      <th>3</th>\n      <td>10132,3</td>\n      <td>2022/12/18</td>\n      <td>8:15:52</td>\n      <td>Offline</td>\n      <td>350.6500</td>\n      <td>-4.2607</td>\n      <td>3.00</td>\n      <td>22.35</td>\n      <td>INTEGRAL GRB Coordinates. Time_Scale=50.0000 a...</td>\n    </tr>\n    <tr>\n      <th>4</th>\n      <td>10132,2</td>\n      <td>2022/12/18</td>\n      <td>8:15:52</td>\n      <td>Refine</td>\n      <td>350.6500</td>\n      <td>-4.2607</td>\n      <td>2.62</td>\n      <td>22.35</td>\n      <td>INTEGRAL GRB Coordinates. Time_Scale=50.0000 a...</td>\n    </tr>\n    <tr>\n      <th>...</th>\n      <td>...</td>\n      <td>...</td>\n      <td>...</td>\n      <td>...</td>\n      <td>...</td>\n      <td>...</td>\n      <td>...</td>\n      <td>...</td>\n      <td>...</td>\n    </tr>\n    <tr>\n      <th>2892</th>\n      <td>NaN</td>\n      <td>NaN</td>\n      <td>NaN</td>\n      <td>NaN</td>\n      <td>NaN</td>\n      <td>NaN</td>\n      <td>NaN</td>\n      <td>NaN</td>\n      <td>NaN</td>\n    </tr>\n    <tr>\n      <th>2893</th>\n      <td>NaN</td>\n      <td>NaN</td>\n      <td>NaN</td>\n      <td>NaN</td>\n      <td>NaN</td>\n      <td>NaN</td>\n      <td>NaN</td>\n      <td>NaN</td>\n      <td>NaN</td>\n    </tr>\n    <tr>\n      <th>2894</th>\n      <td>This file is continuously modified by the gcn ...</td>\n      <td>NaN</td>\n      <td>NaN</td>\n      <td>NaN</td>\n      <td>NaN</td>\n      <td>NaN</td>\n      <td>NaN</td>\n      <td>NaN</td>\n      <td>NaN</td>\n    </tr>\n    <tr>\n      <th>2895</th>\n      <td>NaN</td>\n      <td>NaN</td>\n      <td>NaN</td>\n      <td>NaN</td>\n      <td>NaN</td>\n      <td>NaN</td>\n      <td>NaN</td>\n      <td>NaN</td>\n      <td>NaN</td>\n    </tr>\n    <tr>\n      <th>2896</th>\n      <td>This file was last modified by a human on 25-M...</td>\n      <td>NaN</td>\n      <td>NaN</td>\n      <td>NaN</td>\n      <td>NaN</td>\n      <td>NaN</td>\n      <td>NaN</td>\n      <td>NaN</td>\n      <td>NaN</td>\n    </tr>\n  </tbody>\n</table>\n<p>2897 rows × 9 columns</p>\n</div>"
     },
     "execution_count": 22,
     "metadata": {},
     "output_type": "execute_result"
    }
   ],
   "source": [
    "df = pd.read_csv('./data/integral.csv')\n",
    "df"
   ],
   "metadata": {
    "collapsed": false,
    "pycharm": {
     "name": "#%%\n"
    }
   }
  },
  {
   "cell_type": "code",
   "execution_count": 23,
   "outputs": [],
   "source": [
    "df = df[df['Error']>=0]"
   ],
   "metadata": {
    "collapsed": false,
    "pycharm": {
     "name": "#%%\n"
    }
   }
  },
  {
   "cell_type": "code",
   "execution_count": 24,
   "outputs": [
    {
     "name": "stderr",
     "output_type": "stream",
     "text": [
      "/var/folders/w0/pdcqgg7107b13rvwb56gsrlc0000gn/T/ipykernel_97954/1588970410.py:1: SettingWithCopyWarning: \n",
      "A value is trying to be set on a copy of a slice from a DataFrame.\n",
      "Try using .loc[row_indexer,col_indexer] = value instead\n",
      "\n",
      "See the caveats in the documentation: https://pandas.pydata.org/pandas-docs/stable/user_guide/indexing.html#returning-a-view-versus-a-copy\n",
      "  df['Date']=df[\"Date\"].astype('datetime64[ns]')  #如果已为日期格式则此步骤可省略\n"
     ]
    }
   ],
   "source": [
    "df['Date']=df[\"Date\"].astype('datetime64[ns]')  #如果已为日期格式则此步骤可省略"
   ],
   "metadata": {
    "collapsed": false,
    "pycharm": {
     "name": "#%%\n"
    }
   }
  },
  {
   "cell_type": "code",
   "execution_count": 25,
   "outputs": [
    {
     "data": {
      "text/plain": "    Trig,SubNums       Date   Time UT  Mesg        RA      Dec  Error  Inten  \\\n0         9584,0 2021-12-30  13:43:49  Weak  220.5780 -53.3588   3.78   6.08   \n1         9583,0 2021-12-30  13:11:12  Weak  223.9821 -50.6995   3.85   5.92   \n2         9582,0 2021-12-30  11:37:07  Weak  156.1291 -54.8296   3.77   6.16   \n3         9579,0 2021-12-29   5:23:13  Weak  323.3087  44.1340   3.88   5.84   \n4         9578,0 2021-12-29   5:04:42  Weak  310.6994  38.7110   3.70   6.36   \n..           ...        ...       ...   ...       ...      ...    ...    ...   \n486       8919,0 2021-01-06   4:17:48  Weak  349.3015  60.9191   3.62   6.60   \n487       8918,0 2021-01-05  21:38:20  Weak   13.6324  63.9202   3.63   6.54   \n488       8917,0 2021-01-03  19:01:56  Weak  347.5740  63.9828   3.55   6.89   \n489       8916,0 2021-01-03   7:58:23  Weak  355.5581  56.1622   3.72   6.28   \n490       8915,0 2021-01-03   5:11:02  Weak  335.8721  46.3335   3.82   6.00   \n\n                                              Comments    Trig  \n0    INTEGRAL GRB Coordinates -- this is the weak/s...  9584,0  \n1    INTEGRAL GRB Coordinates -- this is the weak/s...  9583,0  \n2    INTEGRAL GRB Coordinates -- this is the weak/s...  9582,0  \n3    INTEGRAL GRB Coordinates -- this is the weak/s...  9579,0  \n4    INTEGRAL GRB Coordinates -- this is the weak/s...  9578,0  \n..                                                 ...     ...  \n486  INTEGRAL GRB Coordinates -- this is the weak/s...  8919,0  \n487  INTEGRAL GRB Coordinates -- this is the weak/s...  8918,0  \n488  INTEGRAL GRB Coordinates -- this is the weak/s...  8917,0  \n489  INTEGRAL GRB Coordinates -- this is the weak/s...  8916,0  \n490  INTEGRAL GRB Coordinates -- this is the weak/s...  8915,0  \n\n[491 rows x 10 columns]",
      "text/html": "<div>\n<style scoped>\n    .dataframe tbody tr th:only-of-type {\n        vertical-align: middle;\n    }\n\n    .dataframe tbody tr th {\n        vertical-align: top;\n    }\n\n    .dataframe thead th {\n        text-align: right;\n    }\n</style>\n<table border=\"1\" class=\"dataframe\">\n  <thead>\n    <tr style=\"text-align: right;\">\n      <th></th>\n      <th>Trig,SubNums</th>\n      <th>Date</th>\n      <th>Time UT</th>\n      <th>Mesg</th>\n      <th>RA</th>\n      <th>Dec</th>\n      <th>Error</th>\n      <th>Inten</th>\n      <th>Comments</th>\n      <th>Trig</th>\n    </tr>\n  </thead>\n  <tbody>\n    <tr>\n      <th>0</th>\n      <td>9584,0</td>\n      <td>2021-12-30</td>\n      <td>13:43:49</td>\n      <td>Weak</td>\n      <td>220.5780</td>\n      <td>-53.3588</td>\n      <td>3.78</td>\n      <td>6.08</td>\n      <td>INTEGRAL GRB Coordinates -- this is the weak/s...</td>\n      <td>9584,0</td>\n    </tr>\n    <tr>\n      <th>1</th>\n      <td>9583,0</td>\n      <td>2021-12-30</td>\n      <td>13:11:12</td>\n      <td>Weak</td>\n      <td>223.9821</td>\n      <td>-50.6995</td>\n      <td>3.85</td>\n      <td>5.92</td>\n      <td>INTEGRAL GRB Coordinates -- this is the weak/s...</td>\n      <td>9583,0</td>\n    </tr>\n    <tr>\n      <th>2</th>\n      <td>9582,0</td>\n      <td>2021-12-30</td>\n      <td>11:37:07</td>\n      <td>Weak</td>\n      <td>156.1291</td>\n      <td>-54.8296</td>\n      <td>3.77</td>\n      <td>6.16</td>\n      <td>INTEGRAL GRB Coordinates -- this is the weak/s...</td>\n      <td>9582,0</td>\n    </tr>\n    <tr>\n      <th>3</th>\n      <td>9579,0</td>\n      <td>2021-12-29</td>\n      <td>5:23:13</td>\n      <td>Weak</td>\n      <td>323.3087</td>\n      <td>44.1340</td>\n      <td>3.88</td>\n      <td>5.84</td>\n      <td>INTEGRAL GRB Coordinates -- this is the weak/s...</td>\n      <td>9579,0</td>\n    </tr>\n    <tr>\n      <th>4</th>\n      <td>9578,0</td>\n      <td>2021-12-29</td>\n      <td>5:04:42</td>\n      <td>Weak</td>\n      <td>310.6994</td>\n      <td>38.7110</td>\n      <td>3.70</td>\n      <td>6.36</td>\n      <td>INTEGRAL GRB Coordinates -- this is the weak/s...</td>\n      <td>9578,0</td>\n    </tr>\n    <tr>\n      <th>...</th>\n      <td>...</td>\n      <td>...</td>\n      <td>...</td>\n      <td>...</td>\n      <td>...</td>\n      <td>...</td>\n      <td>...</td>\n      <td>...</td>\n      <td>...</td>\n      <td>...</td>\n    </tr>\n    <tr>\n      <th>486</th>\n      <td>8919,0</td>\n      <td>2021-01-06</td>\n      <td>4:17:48</td>\n      <td>Weak</td>\n      <td>349.3015</td>\n      <td>60.9191</td>\n      <td>3.62</td>\n      <td>6.60</td>\n      <td>INTEGRAL GRB Coordinates -- this is the weak/s...</td>\n      <td>8919,0</td>\n    </tr>\n    <tr>\n      <th>487</th>\n      <td>8918,0</td>\n      <td>2021-01-05</td>\n      <td>21:38:20</td>\n      <td>Weak</td>\n      <td>13.6324</td>\n      <td>63.9202</td>\n      <td>3.63</td>\n      <td>6.54</td>\n      <td>INTEGRAL GRB Coordinates -- this is the weak/s...</td>\n      <td>8918,0</td>\n    </tr>\n    <tr>\n      <th>488</th>\n      <td>8917,0</td>\n      <td>2021-01-03</td>\n      <td>19:01:56</td>\n      <td>Weak</td>\n      <td>347.5740</td>\n      <td>63.9828</td>\n      <td>3.55</td>\n      <td>6.89</td>\n      <td>INTEGRAL GRB Coordinates -- this is the weak/s...</td>\n      <td>8917,0</td>\n    </tr>\n    <tr>\n      <th>489</th>\n      <td>8916,0</td>\n      <td>2021-01-03</td>\n      <td>7:58:23</td>\n      <td>Weak</td>\n      <td>355.5581</td>\n      <td>56.1622</td>\n      <td>3.72</td>\n      <td>6.28</td>\n      <td>INTEGRAL GRB Coordinates -- this is the weak/s...</td>\n      <td>8916,0</td>\n    </tr>\n    <tr>\n      <th>490</th>\n      <td>8915,0</td>\n      <td>2021-01-03</td>\n      <td>5:11:02</td>\n      <td>Weak</td>\n      <td>335.8721</td>\n      <td>46.3335</td>\n      <td>3.82</td>\n      <td>6.00</td>\n      <td>INTEGRAL GRB Coordinates -- this is the weak/s...</td>\n      <td>8915,0</td>\n    </tr>\n  </tbody>\n</table>\n<p>491 rows × 10 columns</p>\n</div>"
     },
     "execution_count": 25,
     "metadata": {},
     "output_type": "execute_result"
    }
   ],
   "source": [
    "df2 = df[(df['Date']>='2021/01/01') & (df['Date']<='2021/12/31')]\n",
    "df2 = df2.reset_index(drop=True)\n",
    "df2['Trig'] = df2['Trig,SubNums']\n",
    "df2"
   ],
   "metadata": {
    "collapsed": false,
    "pycharm": {
     "name": "#%%\n"
    }
   }
  },
  {
   "cell_type": "code",
   "execution_count": 26,
   "outputs": [
    {
     "name": "stderr",
     "output_type": "stream",
     "text": [
      "/var/folders/w0/pdcqgg7107b13rvwb56gsrlc0000gn/T/ipykernel_97954/2085050489.py:2: SettingWithCopyWarning: \n",
      "A value is trying to be set on a copy of a slice from a DataFrame\n",
      "\n",
      "See the caveats in the documentation: https://pandas.pydata.org/pandas-docs/stable/user_guide/indexing.html#returning-a-view-versus-a-copy\n",
      "  df2['Trig'][i] = df2['Trig,SubNums'].values[i][:-2]\n"
     ]
    },
    {
     "data": {
      "text/plain": "    Trig,SubNums       Date   Time UT  Mesg        RA      Dec  Error  Inten  \\\n0         9584,0 2021-12-30  13:43:49  Weak  220.5780 -53.3588   3.78   6.08   \n1         9583,0 2021-12-30  13:11:12  Weak  223.9821 -50.6995   3.85   5.92   \n2         9582,0 2021-12-30  11:37:07  Weak  156.1291 -54.8296   3.77   6.16   \n3         9579,0 2021-12-29   5:23:13  Weak  323.3087  44.1340   3.88   5.84   \n4         9578,0 2021-12-29   5:04:42  Weak  310.6994  38.7110   3.70   6.36   \n..           ...        ...       ...   ...       ...      ...    ...    ...   \n486       8919,0 2021-01-06   4:17:48  Weak  349.3015  60.9191   3.62   6.60   \n487       8918,0 2021-01-05  21:38:20  Weak   13.6324  63.9202   3.63   6.54   \n488       8917,0 2021-01-03  19:01:56  Weak  347.5740  63.9828   3.55   6.89   \n489       8916,0 2021-01-03   7:58:23  Weak  355.5581  56.1622   3.72   6.28   \n490       8915,0 2021-01-03   5:11:02  Weak  335.8721  46.3335   3.82   6.00   \n\n                                              Comments  Trig  \n0    INTEGRAL GRB Coordinates -- this is the weak/s...  9584  \n1    INTEGRAL GRB Coordinates -- this is the weak/s...  9583  \n2    INTEGRAL GRB Coordinates -- this is the weak/s...  9582  \n3    INTEGRAL GRB Coordinates -- this is the weak/s...  9579  \n4    INTEGRAL GRB Coordinates -- this is the weak/s...  9578  \n..                                                 ...   ...  \n486  INTEGRAL GRB Coordinates -- this is the weak/s...  8919  \n487  INTEGRAL GRB Coordinates -- this is the weak/s...  8918  \n488  INTEGRAL GRB Coordinates -- this is the weak/s...  8917  \n489  INTEGRAL GRB Coordinates -- this is the weak/s...  8916  \n490  INTEGRAL GRB Coordinates -- this is the weak/s...  8915  \n\n[491 rows x 10 columns]",
      "text/html": "<div>\n<style scoped>\n    .dataframe tbody tr th:only-of-type {\n        vertical-align: middle;\n    }\n\n    .dataframe tbody tr th {\n        vertical-align: top;\n    }\n\n    .dataframe thead th {\n        text-align: right;\n    }\n</style>\n<table border=\"1\" class=\"dataframe\">\n  <thead>\n    <tr style=\"text-align: right;\">\n      <th></th>\n      <th>Trig,SubNums</th>\n      <th>Date</th>\n      <th>Time UT</th>\n      <th>Mesg</th>\n      <th>RA</th>\n      <th>Dec</th>\n      <th>Error</th>\n      <th>Inten</th>\n      <th>Comments</th>\n      <th>Trig</th>\n    </tr>\n  </thead>\n  <tbody>\n    <tr>\n      <th>0</th>\n      <td>9584,0</td>\n      <td>2021-12-30</td>\n      <td>13:43:49</td>\n      <td>Weak</td>\n      <td>220.5780</td>\n      <td>-53.3588</td>\n      <td>3.78</td>\n      <td>6.08</td>\n      <td>INTEGRAL GRB Coordinates -- this is the weak/s...</td>\n      <td>9584</td>\n    </tr>\n    <tr>\n      <th>1</th>\n      <td>9583,0</td>\n      <td>2021-12-30</td>\n      <td>13:11:12</td>\n      <td>Weak</td>\n      <td>223.9821</td>\n      <td>-50.6995</td>\n      <td>3.85</td>\n      <td>5.92</td>\n      <td>INTEGRAL GRB Coordinates -- this is the weak/s...</td>\n      <td>9583</td>\n    </tr>\n    <tr>\n      <th>2</th>\n      <td>9582,0</td>\n      <td>2021-12-30</td>\n      <td>11:37:07</td>\n      <td>Weak</td>\n      <td>156.1291</td>\n      <td>-54.8296</td>\n      <td>3.77</td>\n      <td>6.16</td>\n      <td>INTEGRAL GRB Coordinates -- this is the weak/s...</td>\n      <td>9582</td>\n    </tr>\n    <tr>\n      <th>3</th>\n      <td>9579,0</td>\n      <td>2021-12-29</td>\n      <td>5:23:13</td>\n      <td>Weak</td>\n      <td>323.3087</td>\n      <td>44.1340</td>\n      <td>3.88</td>\n      <td>5.84</td>\n      <td>INTEGRAL GRB Coordinates -- this is the weak/s...</td>\n      <td>9579</td>\n    </tr>\n    <tr>\n      <th>4</th>\n      <td>9578,0</td>\n      <td>2021-12-29</td>\n      <td>5:04:42</td>\n      <td>Weak</td>\n      <td>310.6994</td>\n      <td>38.7110</td>\n      <td>3.70</td>\n      <td>6.36</td>\n      <td>INTEGRAL GRB Coordinates -- this is the weak/s...</td>\n      <td>9578</td>\n    </tr>\n    <tr>\n      <th>...</th>\n      <td>...</td>\n      <td>...</td>\n      <td>...</td>\n      <td>...</td>\n      <td>...</td>\n      <td>...</td>\n      <td>...</td>\n      <td>...</td>\n      <td>...</td>\n      <td>...</td>\n    </tr>\n    <tr>\n      <th>486</th>\n      <td>8919,0</td>\n      <td>2021-01-06</td>\n      <td>4:17:48</td>\n      <td>Weak</td>\n      <td>349.3015</td>\n      <td>60.9191</td>\n      <td>3.62</td>\n      <td>6.60</td>\n      <td>INTEGRAL GRB Coordinates -- this is the weak/s...</td>\n      <td>8919</td>\n    </tr>\n    <tr>\n      <th>487</th>\n      <td>8918,0</td>\n      <td>2021-01-05</td>\n      <td>21:38:20</td>\n      <td>Weak</td>\n      <td>13.6324</td>\n      <td>63.9202</td>\n      <td>3.63</td>\n      <td>6.54</td>\n      <td>INTEGRAL GRB Coordinates -- this is the weak/s...</td>\n      <td>8918</td>\n    </tr>\n    <tr>\n      <th>488</th>\n      <td>8917,0</td>\n      <td>2021-01-03</td>\n      <td>19:01:56</td>\n      <td>Weak</td>\n      <td>347.5740</td>\n      <td>63.9828</td>\n      <td>3.55</td>\n      <td>6.89</td>\n      <td>INTEGRAL GRB Coordinates -- this is the weak/s...</td>\n      <td>8917</td>\n    </tr>\n    <tr>\n      <th>489</th>\n      <td>8916,0</td>\n      <td>2021-01-03</td>\n      <td>7:58:23</td>\n      <td>Weak</td>\n      <td>355.5581</td>\n      <td>56.1622</td>\n      <td>3.72</td>\n      <td>6.28</td>\n      <td>INTEGRAL GRB Coordinates -- this is the weak/s...</td>\n      <td>8916</td>\n    </tr>\n    <tr>\n      <th>490</th>\n      <td>8915,0</td>\n      <td>2021-01-03</td>\n      <td>5:11:02</td>\n      <td>Weak</td>\n      <td>335.8721</td>\n      <td>46.3335</td>\n      <td>3.82</td>\n      <td>6.00</td>\n      <td>INTEGRAL GRB Coordinates -- this is the weak/s...</td>\n      <td>8915</td>\n    </tr>\n  </tbody>\n</table>\n<p>491 rows × 10 columns</p>\n</div>"
     },
     "execution_count": 26,
     "metadata": {},
     "output_type": "execute_result"
    }
   ],
   "source": [
    "for i in range(df2.shape[0]):\n",
    "    df2['Trig'][i] = df2['Trig,SubNums'].values[i][:-2]\n",
    "df2"
   ],
   "metadata": {
    "collapsed": false,
    "pycharm": {
     "name": "#%%\n"
    }
   }
  },
  {
   "cell_type": "code",
   "execution_count": 27,
   "outputs": [
    {
     "data": {
      "text/plain": "    Trig,SubNums       Date   Time UT     Mesg        RA      Dec  Error  \\\n355       9126,3 2021-04-06  17:11:55  Offline  132.4588  76.5322   1.50   \n393       9073,2 2021-03-12  20:52:20  Offline  155.8430  76.8713   2.00   \n438       8970,2 2021-02-08  13:32:29  Offline  260.1975 -12.6667   2.00   \n356       9126,2 2021-04-06  17:11:55   Refine  132.4490  76.5270   2.55   \n357       9126,1 2021-04-06  17:11:40   Refine  132.4849  76.5270   2.60   \n..           ...        ...       ...      ...       ...      ...    ...   \n24        9548,0 2021-12-01   7:36:24     Weak  115.8678 -39.0683   3.98   \n84        9481,0 2021-10-30  23:15:16     Weak  254.6528 -44.1102   4.00   \n477       8931,0 2021-01-13   9:31:11     Weak   14.8584  72.6203   4.02   \n11        9566,0 2021-12-17   6:35:31     Weak  169.6243 -56.0368   4.02   \n37        9534,0 2021-11-21  22:12:28     Weak  282.7802  -0.7663   4.02   \n\n     Inten                                           Comments  Trig  \n355  31.81  INTEGRAL GRB Coordinates. Time_Scale=0.3199 an...  9126  \n393  15.78  INTEGRAL GRB Coordinates. Time_Scale=0.1599 an...  9073  \n438  16.39  INTEGRAL GRB Coordinates. Time_Scale=5.0000 an...  8970  \n356  31.81  INTEGRAL GRB Coordinates. Time_Scale=0.3199 an...  9126  \n357  23.87  INTEGRAL GRB Coordinates. Time_Scale=0.0320 an...  9126  \n..     ...                                                ...   ...  \n24    5.57  INTEGRAL GRB Coordinates -- this is the weak/s...  9548  \n84    5.56  INTEGRAL GRB Coordinates -- this is the weak/s...  9481  \n477   5.50  INTEGRAL GRB Coordinates -- this is the weak/s...  8931  \n11    5.52  INTEGRAL GRB Coordinates -- this is the weak/s...  9566  \n37    5.52  INTEGRAL GRB Coordinates -- this is the weak/s...  9534  \n\n[491 rows x 10 columns]",
      "text/html": "<div>\n<style scoped>\n    .dataframe tbody tr th:only-of-type {\n        vertical-align: middle;\n    }\n\n    .dataframe tbody tr th {\n        vertical-align: top;\n    }\n\n    .dataframe thead th {\n        text-align: right;\n    }\n</style>\n<table border=\"1\" class=\"dataframe\">\n  <thead>\n    <tr style=\"text-align: right;\">\n      <th></th>\n      <th>Trig,SubNums</th>\n      <th>Date</th>\n      <th>Time UT</th>\n      <th>Mesg</th>\n      <th>RA</th>\n      <th>Dec</th>\n      <th>Error</th>\n      <th>Inten</th>\n      <th>Comments</th>\n      <th>Trig</th>\n    </tr>\n  </thead>\n  <tbody>\n    <tr>\n      <th>355</th>\n      <td>9126,3</td>\n      <td>2021-04-06</td>\n      <td>17:11:55</td>\n      <td>Offline</td>\n      <td>132.4588</td>\n      <td>76.5322</td>\n      <td>1.50</td>\n      <td>31.81</td>\n      <td>INTEGRAL GRB Coordinates. Time_Scale=0.3199 an...</td>\n      <td>9126</td>\n    </tr>\n    <tr>\n      <th>393</th>\n      <td>9073,2</td>\n      <td>2021-03-12</td>\n      <td>20:52:20</td>\n      <td>Offline</td>\n      <td>155.8430</td>\n      <td>76.8713</td>\n      <td>2.00</td>\n      <td>15.78</td>\n      <td>INTEGRAL GRB Coordinates. Time_Scale=0.1599 an...</td>\n      <td>9073</td>\n    </tr>\n    <tr>\n      <th>438</th>\n      <td>8970,2</td>\n      <td>2021-02-08</td>\n      <td>13:32:29</td>\n      <td>Offline</td>\n      <td>260.1975</td>\n      <td>-12.6667</td>\n      <td>2.00</td>\n      <td>16.39</td>\n      <td>INTEGRAL GRB Coordinates. Time_Scale=5.0000 an...</td>\n      <td>8970</td>\n    </tr>\n    <tr>\n      <th>356</th>\n      <td>9126,2</td>\n      <td>2021-04-06</td>\n      <td>17:11:55</td>\n      <td>Refine</td>\n      <td>132.4490</td>\n      <td>76.5270</td>\n      <td>2.55</td>\n      <td>31.81</td>\n      <td>INTEGRAL GRB Coordinates. Time_Scale=0.3199 an...</td>\n      <td>9126</td>\n    </tr>\n    <tr>\n      <th>357</th>\n      <td>9126,1</td>\n      <td>2021-04-06</td>\n      <td>17:11:40</td>\n      <td>Refine</td>\n      <td>132.4849</td>\n      <td>76.5270</td>\n      <td>2.60</td>\n      <td>23.87</td>\n      <td>INTEGRAL GRB Coordinates. Time_Scale=0.0320 an...</td>\n      <td>9126</td>\n    </tr>\n    <tr>\n      <th>...</th>\n      <td>...</td>\n      <td>...</td>\n      <td>...</td>\n      <td>...</td>\n      <td>...</td>\n      <td>...</td>\n      <td>...</td>\n      <td>...</td>\n      <td>...</td>\n      <td>...</td>\n    </tr>\n    <tr>\n      <th>24</th>\n      <td>9548,0</td>\n      <td>2021-12-01</td>\n      <td>7:36:24</td>\n      <td>Weak</td>\n      <td>115.8678</td>\n      <td>-39.0683</td>\n      <td>3.98</td>\n      <td>5.57</td>\n      <td>INTEGRAL GRB Coordinates -- this is the weak/s...</td>\n      <td>9548</td>\n    </tr>\n    <tr>\n      <th>84</th>\n      <td>9481,0</td>\n      <td>2021-10-30</td>\n      <td>23:15:16</td>\n      <td>Weak</td>\n      <td>254.6528</td>\n      <td>-44.1102</td>\n      <td>4.00</td>\n      <td>5.56</td>\n      <td>INTEGRAL GRB Coordinates -- this is the weak/s...</td>\n      <td>9481</td>\n    </tr>\n    <tr>\n      <th>477</th>\n      <td>8931,0</td>\n      <td>2021-01-13</td>\n      <td>9:31:11</td>\n      <td>Weak</td>\n      <td>14.8584</td>\n      <td>72.6203</td>\n      <td>4.02</td>\n      <td>5.50</td>\n      <td>INTEGRAL GRB Coordinates -- this is the weak/s...</td>\n      <td>8931</td>\n    </tr>\n    <tr>\n      <th>11</th>\n      <td>9566,0</td>\n      <td>2021-12-17</td>\n      <td>6:35:31</td>\n      <td>Weak</td>\n      <td>169.6243</td>\n      <td>-56.0368</td>\n      <td>4.02</td>\n      <td>5.52</td>\n      <td>INTEGRAL GRB Coordinates -- this is the weak/s...</td>\n      <td>9566</td>\n    </tr>\n    <tr>\n      <th>37</th>\n      <td>9534,0</td>\n      <td>2021-11-21</td>\n      <td>22:12:28</td>\n      <td>Weak</td>\n      <td>282.7802</td>\n      <td>-0.7663</td>\n      <td>4.02</td>\n      <td>5.52</td>\n      <td>INTEGRAL GRB Coordinates -- this is the weak/s...</td>\n      <td>9534</td>\n    </tr>\n  </tbody>\n</table>\n<p>491 rows × 10 columns</p>\n</div>"
     },
     "execution_count": 27,
     "metadata": {},
     "output_type": "execute_result"
    }
   ],
   "source": [
    "df2 = df2.sort_values(by='Error')\n",
    "df2"
   ],
   "metadata": {
    "collapsed": false,
    "pycharm": {
     "name": "#%%\n"
    }
   }
  },
  {
   "cell_type": "code",
   "execution_count": 28,
   "outputs": [
    {
     "data": {
      "text/plain": "    Trig,SubNums       Date   Time UT  Mesg        RA      Dec  Error  Inten  \\\n488       8917,0 2021-01-03  19:01:56  Weak  347.5740  63.9828   3.55   6.89   \n489       8916,0 2021-01-03   7:58:23  Weak  355.5581  56.1622   3.72   6.28   \n490       8915,0 2021-01-03   5:11:02  Weak  335.8721  46.3335   3.82   6.00   \n487       8918,0 2021-01-05  21:38:20  Weak   13.6324  63.9202   3.63   6.54   \n485       8920,0 2021-01-06   9:29:15  Weak    0.8241  60.5491   3.60   6.68   \n..           ...        ...       ...   ...       ...      ...    ...    ...   \n4         9578,0 2021-12-29   5:04:42  Weak  310.6994  38.7110   3.70   6.36   \n5         9577,0 2021-12-29   3:08:17  Weak  305.0278  32.1542   3.62   6.60   \n2         9582,0 2021-12-30  11:37:07  Weak  156.1291 -54.8296   3.77   6.16   \n0         9584,0 2021-12-30  13:43:49  Weak  220.5780 -53.3588   3.78   6.08   \n1         9583,0 2021-12-30  13:11:12  Weak  223.9821 -50.6995   3.85   5.92   \n\n                                              Comments  Trig  \n488  INTEGRAL GRB Coordinates -- this is the weak/s...  8917  \n489  INTEGRAL GRB Coordinates -- this is the weak/s...  8916  \n490  INTEGRAL GRB Coordinates -- this is the weak/s...  8915  \n487  INTEGRAL GRB Coordinates -- this is the weak/s...  8918  \n485  INTEGRAL GRB Coordinates -- this is the weak/s...  8920  \n..                                                 ...   ...  \n4    INTEGRAL GRB Coordinates -- this is the weak/s...  9578  \n5    INTEGRAL GRB Coordinates -- this is the weak/s...  9577  \n2    INTEGRAL GRB Coordinates -- this is the weak/s...  9582  \n0    INTEGRAL GRB Coordinates -- this is the weak/s...  9584  \n1    INTEGRAL GRB Coordinates -- this is the weak/s...  9583  \n\n[479 rows x 10 columns]",
      "text/html": "<div>\n<style scoped>\n    .dataframe tbody tr th:only-of-type {\n        vertical-align: middle;\n    }\n\n    .dataframe tbody tr th {\n        vertical-align: top;\n    }\n\n    .dataframe thead th {\n        text-align: right;\n    }\n</style>\n<table border=\"1\" class=\"dataframe\">\n  <thead>\n    <tr style=\"text-align: right;\">\n      <th></th>\n      <th>Trig,SubNums</th>\n      <th>Date</th>\n      <th>Time UT</th>\n      <th>Mesg</th>\n      <th>RA</th>\n      <th>Dec</th>\n      <th>Error</th>\n      <th>Inten</th>\n      <th>Comments</th>\n      <th>Trig</th>\n    </tr>\n  </thead>\n  <tbody>\n    <tr>\n      <th>488</th>\n      <td>8917,0</td>\n      <td>2021-01-03</td>\n      <td>19:01:56</td>\n      <td>Weak</td>\n      <td>347.5740</td>\n      <td>63.9828</td>\n      <td>3.55</td>\n      <td>6.89</td>\n      <td>INTEGRAL GRB Coordinates -- this is the weak/s...</td>\n      <td>8917</td>\n    </tr>\n    <tr>\n      <th>489</th>\n      <td>8916,0</td>\n      <td>2021-01-03</td>\n      <td>7:58:23</td>\n      <td>Weak</td>\n      <td>355.5581</td>\n      <td>56.1622</td>\n      <td>3.72</td>\n      <td>6.28</td>\n      <td>INTEGRAL GRB Coordinates -- this is the weak/s...</td>\n      <td>8916</td>\n    </tr>\n    <tr>\n      <th>490</th>\n      <td>8915,0</td>\n      <td>2021-01-03</td>\n      <td>5:11:02</td>\n      <td>Weak</td>\n      <td>335.8721</td>\n      <td>46.3335</td>\n      <td>3.82</td>\n      <td>6.00</td>\n      <td>INTEGRAL GRB Coordinates -- this is the weak/s...</td>\n      <td>8915</td>\n    </tr>\n    <tr>\n      <th>487</th>\n      <td>8918,0</td>\n      <td>2021-01-05</td>\n      <td>21:38:20</td>\n      <td>Weak</td>\n      <td>13.6324</td>\n      <td>63.9202</td>\n      <td>3.63</td>\n      <td>6.54</td>\n      <td>INTEGRAL GRB Coordinates -- this is the weak/s...</td>\n      <td>8918</td>\n    </tr>\n    <tr>\n      <th>485</th>\n      <td>8920,0</td>\n      <td>2021-01-06</td>\n      <td>9:29:15</td>\n      <td>Weak</td>\n      <td>0.8241</td>\n      <td>60.5491</td>\n      <td>3.60</td>\n      <td>6.68</td>\n      <td>INTEGRAL GRB Coordinates -- this is the weak/s...</td>\n      <td>8920</td>\n    </tr>\n    <tr>\n      <th>...</th>\n      <td>...</td>\n      <td>...</td>\n      <td>...</td>\n      <td>...</td>\n      <td>...</td>\n      <td>...</td>\n      <td>...</td>\n      <td>...</td>\n      <td>...</td>\n      <td>...</td>\n    </tr>\n    <tr>\n      <th>4</th>\n      <td>9578,0</td>\n      <td>2021-12-29</td>\n      <td>5:04:42</td>\n      <td>Weak</td>\n      <td>310.6994</td>\n      <td>38.7110</td>\n      <td>3.70</td>\n      <td>6.36</td>\n      <td>INTEGRAL GRB Coordinates -- this is the weak/s...</td>\n      <td>9578</td>\n    </tr>\n    <tr>\n      <th>5</th>\n      <td>9577,0</td>\n      <td>2021-12-29</td>\n      <td>3:08:17</td>\n      <td>Weak</td>\n      <td>305.0278</td>\n      <td>32.1542</td>\n      <td>3.62</td>\n      <td>6.60</td>\n      <td>INTEGRAL GRB Coordinates -- this is the weak/s...</td>\n      <td>9577</td>\n    </tr>\n    <tr>\n      <th>2</th>\n      <td>9582,0</td>\n      <td>2021-12-30</td>\n      <td>11:37:07</td>\n      <td>Weak</td>\n      <td>156.1291</td>\n      <td>-54.8296</td>\n      <td>3.77</td>\n      <td>6.16</td>\n      <td>INTEGRAL GRB Coordinates -- this is the weak/s...</td>\n      <td>9582</td>\n    </tr>\n    <tr>\n      <th>0</th>\n      <td>9584,0</td>\n      <td>2021-12-30</td>\n      <td>13:43:49</td>\n      <td>Weak</td>\n      <td>220.5780</td>\n      <td>-53.3588</td>\n      <td>3.78</td>\n      <td>6.08</td>\n      <td>INTEGRAL GRB Coordinates -- this is the weak/s...</td>\n      <td>9584</td>\n    </tr>\n    <tr>\n      <th>1</th>\n      <td>9583,0</td>\n      <td>2021-12-30</td>\n      <td>13:11:12</td>\n      <td>Weak</td>\n      <td>223.9821</td>\n      <td>-50.6995</td>\n      <td>3.85</td>\n      <td>5.92</td>\n      <td>INTEGRAL GRB Coordinates -- this is the weak/s...</td>\n      <td>9583</td>\n    </tr>\n  </tbody>\n</table>\n<p>479 rows × 10 columns</p>\n</div>"
     },
     "execution_count": 28,
     "metadata": {},
     "output_type": "execute_result"
    }
   ],
   "source": [
    "# df2['TrigNum'].duplicated()\n",
    "df2.drop_duplicates('Trig',keep='first',inplace=True)\n",
    "df2 = df2.sort_values(by='Date')\n",
    "df2"
   ],
   "metadata": {
    "collapsed": false,
    "pycharm": {
     "name": "#%%\n"
    }
   }
  },
  {
   "cell_type": "code",
   "execution_count": 29,
   "outputs": [],
   "source": [
    "df2 = df2.reset_index(drop=True)\n",
    "df2.to_csv('Integral2021.csv')"
   ],
   "metadata": {
    "collapsed": false,
    "pycharm": {
     "name": "#%%\n"
    }
   }
  },
  {
   "cell_type": "code",
   "execution_count": 176,
   "outputs": [],
   "source": [
    "##### SWIFT"
   ],
   "metadata": {
    "collapsed": false,
    "pycharm": {
     "name": "#%%\n"
    }
   }
  },
  {
   "cell_type": "code",
   "execution_count": 31,
   "outputs": [
    {
     "data": {
      "text/plain": "                                                  Trig Date yy/mm/dd  \\\n0                                              1144698    2022-12-16   \n1                                              1144538    2022-12-15   \n2                                              1143281    2022-12-04   \n3                                              1142997    2022-12-02   \n4                                              1142847    2022-12-01   \n..                                                 ...           ...   \n676                                                NaN           NaT   \n677                                                NaN           NaT   \n678  This file is continuously modified by the gcn ...           NaT   \n679                                                NaN           NaT   \n680  This file was last modified by a human on 20-A...           NaT   \n\n      Time UT   BAT RA  BAT Dec  BAT Error    XRT RA  XRT Dec  XRT Error  \\\n0    11:21:21  326.021  -34.405        3.0  326.0326 -34.4223        4.8   \n1     3:35:24   54.789  -27.433        3.0   54.6840 -27.2954        5.2   \n2    10:45:06  299.529   35.005        3.0  299.5354  35.0978        5.3   \n3    20:06:11   77.095  -59.806        3.0   77.0830 -59.8321        1.9   \n4    12:25:06  266.933  -68.260        3.0  266.9227 -68.2488        3.7   \n..        ...      ...      ...        ...       ...      ...        ...   \n676       NaN      NaN      NaN        NaN       NaN      NaN        NaN   \n677       NaN      NaN      NaN        NaN       NaN      NaN        NaN   \n678       NaN      NaN      NaN        NaN       NaN      NaN        NaN   \n679       NaN      NaN      NaN        NaN       NaN      NaN        NaN   \n680       NaN      NaN      NaN        NaN       NaN      NaN        NaN   \n\n     UVOT RA  ...                   XS1 XS1p                   XS2 XS2p  \\\n0        NaN  ...  FITS JPEG GIF PDF PS  NaN  FITS JPEG GIF PDF PS  NaN   \n1        NaN  ...  FITS JPEG GIF PDF PS  NaN  FITS JPEG GIF PDF PS  NaN   \n2        NaN  ...  FITS JPEG GIF PDF PS  NaN  FITS JPEG GIF PDF PS  NaN   \n3        NaN  ...  FITS JPEG GIF PDF PS  NaN  FITS JPEG GIF PDF PS  NaN   \n4        NaN  ...  FITS JPEG GIF PDF PS  NaN  FITS JPEG GIF PDF PS  NaN   \n..       ...  ...                   ...  ...                   ...  ...   \n676      NaN  ...                   NaN  NaN                   NaN  NaN   \n677      NaN  ...                   NaN  NaN                   NaN  NaN   \n678      NaN  ...                   NaN  NaN                   NaN  NaN   \n679      NaN  ...                   NaN  NaN                   NaN  NaN   \n680      NaN  ...                   NaN  NaN                   NaN  NaN   \n\n                      XIM                  XIMp  \\\n0    FITS JPEG GIF PDF PS  FITS JPEG GIF PDF PS   \n1    FITS JPEG GIF PDF PS  FITS JPEG GIF PDF PS   \n2    FITS JPEG GIF PDF PS  FITS JPEG GIF PDF PS   \n3                     NaN                   NaN   \n4    FITS JPEG GIF PDF PS  FITS JPEG GIF PDF PS   \n..                    ...                   ...   \n676                   NaN                   NaN   \n677                   NaN                   NaN   \n678                   NaN                   NaN   \n679                   NaN                   NaN   \n680                   NaN                   NaN   \n\n                                                   USL  \\\n0    FITS1 JPEG1 GIF1 PDF1 PS1 FITS2 JPEG2 GIF2 PDF...   \n1                            FITS1 JPEG1 GIF1 PDF1 PS1   \n2    FITS1 JPEG1 GIF1 PDF1 PS1 FITS2 JPEG2 GIF2 PDF...   \n3    FITS1 JPEG1 GIF1 PDF1 PS1 FITS2 JPEG2 GIF2 PDF...   \n4                            FITS1 JPEG1 GIF1 PDF1 PS1   \n..                                                 ...   \n676                                                NaN   \n677                                                NaN   \n678                                                NaN   \n679                                                NaN   \n680                                                NaN   \n\n                                                  USLp  \\\n0    SKY1 SOURCES1 CATALOG1 FIELD_PS1 FIELD_JPEG1 F...   \n1    SKY1 SOURCES1 CATALOG1 FIELD_PS1 FIELD_JPEG1 F...   \n2    SKY1 SOURCES1 FIELD_PS1 FIELD_JPEG1 FIELD_GIF1...   \n3    SKY1 SOURCES1 CATALOG1 FIELD_PS1 FIELD_JPEG1 F...   \n4    SKY1 SOURCES1 CATALOG1 FIELD_PS1 FIELD_JPEG1 F...   \n..                                                 ...   \n676                                                NaN   \n677                                                NaN   \n678                                                NaN   \n679                                                NaN   \n680                                                NaN   \n\n                                                   UIM  \\\n0    FITS1 JPEG1 GIF1 PDF1 PS1 FITS2 JPEG2 GIF2 PDF...   \n1                            FITS1 JPEG1 GIF1 PDF1 PS1   \n2    FITS1 JPEG1 GIF1 PDF1 PS1 FITS2 JPEG2 GIF2 PDF...   \n3    FITS1 JPEG1 GIF1 PDF1 PS1 FITS2 JPEG2 GIF2 PDF...   \n4    FITS1 JPEG1 GIF1 PDF1 PS1 FITS2 JPEG2 GIF2 PDF...   \n..                                                 ...   \n676                                                NaN   \n677                                                NaN   \n678                                                NaN   \n679                                                NaN   \n680                                                NaN   \n\n                                                  UIMp  \n0    SKY1 SOURCES1 FIELD_PS1 FIELD_JPEG1 FIELD_GIF1...  \n1    SKY1 SOURCES1 FIELD_PS1 FIELD_JPEG1 FIELD_GIF1...  \n2    SKY1 SOURCES1 FIELD_PS1 FIELD_JPEG1 FIELD_GIF1...  \n3    SKY1 SOURCES1 FIELD_PS1 FIELD_JPEG1 FIELD_GIF1...  \n4    SKY1 SOURCES1 FIELD_PS1 FIELD_JPEG1 FIELD_GIF1...  \n..                                                 ...  \n676                                                NaN  \n677                                                NaN  \n678                                                NaN  \n679                                                NaN  \n680                                                NaN  \n\n[681 rows x 23 columns]",
      "text/html": "<div>\n<style scoped>\n    .dataframe tbody tr th:only-of-type {\n        vertical-align: middle;\n    }\n\n    .dataframe tbody tr th {\n        vertical-align: top;\n    }\n\n    .dataframe thead th {\n        text-align: right;\n    }\n</style>\n<table border=\"1\" class=\"dataframe\">\n  <thead>\n    <tr style=\"text-align: right;\">\n      <th></th>\n      <th>Trig</th>\n      <th>Date yy/mm/dd</th>\n      <th>Time UT</th>\n      <th>BAT RA</th>\n      <th>BAT Dec</th>\n      <th>BAT Error</th>\n      <th>XRT RA</th>\n      <th>XRT Dec</th>\n      <th>XRT Error</th>\n      <th>UVOT RA</th>\n      <th>...</th>\n      <th>XS1</th>\n      <th>XS1p</th>\n      <th>XS2</th>\n      <th>XS2p</th>\n      <th>XIM</th>\n      <th>XIMp</th>\n      <th>USL</th>\n      <th>USLp</th>\n      <th>UIM</th>\n      <th>UIMp</th>\n    </tr>\n  </thead>\n  <tbody>\n    <tr>\n      <th>0</th>\n      <td>1144698</td>\n      <td>2022-12-16</td>\n      <td>11:21:21</td>\n      <td>326.021</td>\n      <td>-34.405</td>\n      <td>3.0</td>\n      <td>326.0326</td>\n      <td>-34.4223</td>\n      <td>4.8</td>\n      <td>NaN</td>\n      <td>...</td>\n      <td>FITS JPEG GIF PDF PS</td>\n      <td>NaN</td>\n      <td>FITS JPEG GIF PDF PS</td>\n      <td>NaN</td>\n      <td>FITS JPEG GIF PDF PS</td>\n      <td>FITS JPEG GIF PDF PS</td>\n      <td>FITS1 JPEG1 GIF1 PDF1 PS1 FITS2 JPEG2 GIF2 PDF...</td>\n      <td>SKY1 SOURCES1 CATALOG1 FIELD_PS1 FIELD_JPEG1 F...</td>\n      <td>FITS1 JPEG1 GIF1 PDF1 PS1 FITS2 JPEG2 GIF2 PDF...</td>\n      <td>SKY1 SOURCES1 FIELD_PS1 FIELD_JPEG1 FIELD_GIF1...</td>\n    </tr>\n    <tr>\n      <th>1</th>\n      <td>1144538</td>\n      <td>2022-12-15</td>\n      <td>3:35:24</td>\n      <td>54.789</td>\n      <td>-27.433</td>\n      <td>3.0</td>\n      <td>54.6840</td>\n      <td>-27.2954</td>\n      <td>5.2</td>\n      <td>NaN</td>\n      <td>...</td>\n      <td>FITS JPEG GIF PDF PS</td>\n      <td>NaN</td>\n      <td>FITS JPEG GIF PDF PS</td>\n      <td>NaN</td>\n      <td>FITS JPEG GIF PDF PS</td>\n      <td>FITS JPEG GIF PDF PS</td>\n      <td>FITS1 JPEG1 GIF1 PDF1 PS1</td>\n      <td>SKY1 SOURCES1 CATALOG1 FIELD_PS1 FIELD_JPEG1 F...</td>\n      <td>FITS1 JPEG1 GIF1 PDF1 PS1</td>\n      <td>SKY1 SOURCES1 FIELD_PS1 FIELD_JPEG1 FIELD_GIF1...</td>\n    </tr>\n    <tr>\n      <th>2</th>\n      <td>1143281</td>\n      <td>2022-12-04</td>\n      <td>10:45:06</td>\n      <td>299.529</td>\n      <td>35.005</td>\n      <td>3.0</td>\n      <td>299.5354</td>\n      <td>35.0978</td>\n      <td>5.3</td>\n      <td>NaN</td>\n      <td>...</td>\n      <td>FITS JPEG GIF PDF PS</td>\n      <td>NaN</td>\n      <td>FITS JPEG GIF PDF PS</td>\n      <td>NaN</td>\n      <td>FITS JPEG GIF PDF PS</td>\n      <td>FITS JPEG GIF PDF PS</td>\n      <td>FITS1 JPEG1 GIF1 PDF1 PS1 FITS2 JPEG2 GIF2 PDF...</td>\n      <td>SKY1 SOURCES1 FIELD_PS1 FIELD_JPEG1 FIELD_GIF1...</td>\n      <td>FITS1 JPEG1 GIF1 PDF1 PS1 FITS2 JPEG2 GIF2 PDF...</td>\n      <td>SKY1 SOURCES1 FIELD_PS1 FIELD_JPEG1 FIELD_GIF1...</td>\n    </tr>\n    <tr>\n      <th>3</th>\n      <td>1142997</td>\n      <td>2022-12-02</td>\n      <td>20:06:11</td>\n      <td>77.095</td>\n      <td>-59.806</td>\n      <td>3.0</td>\n      <td>77.0830</td>\n      <td>-59.8321</td>\n      <td>1.9</td>\n      <td>NaN</td>\n      <td>...</td>\n      <td>FITS JPEG GIF PDF PS</td>\n      <td>NaN</td>\n      <td>FITS JPEG GIF PDF PS</td>\n      <td>NaN</td>\n      <td>NaN</td>\n      <td>NaN</td>\n      <td>FITS1 JPEG1 GIF1 PDF1 PS1 FITS2 JPEG2 GIF2 PDF...</td>\n      <td>SKY1 SOURCES1 CATALOG1 FIELD_PS1 FIELD_JPEG1 F...</td>\n      <td>FITS1 JPEG1 GIF1 PDF1 PS1 FITS2 JPEG2 GIF2 PDF...</td>\n      <td>SKY1 SOURCES1 FIELD_PS1 FIELD_JPEG1 FIELD_GIF1...</td>\n    </tr>\n    <tr>\n      <th>4</th>\n      <td>1142847</td>\n      <td>2022-12-01</td>\n      <td>12:25:06</td>\n      <td>266.933</td>\n      <td>-68.260</td>\n      <td>3.0</td>\n      <td>266.9227</td>\n      <td>-68.2488</td>\n      <td>3.7</td>\n      <td>NaN</td>\n      <td>...</td>\n      <td>FITS JPEG GIF PDF PS</td>\n      <td>NaN</td>\n      <td>FITS JPEG GIF PDF PS</td>\n      <td>NaN</td>\n      <td>FITS JPEG GIF PDF PS</td>\n      <td>FITS JPEG GIF PDF PS</td>\n      <td>FITS1 JPEG1 GIF1 PDF1 PS1</td>\n      <td>SKY1 SOURCES1 CATALOG1 FIELD_PS1 FIELD_JPEG1 F...</td>\n      <td>FITS1 JPEG1 GIF1 PDF1 PS1 FITS2 JPEG2 GIF2 PDF...</td>\n      <td>SKY1 SOURCES1 FIELD_PS1 FIELD_JPEG1 FIELD_GIF1...</td>\n    </tr>\n    <tr>\n      <th>...</th>\n      <td>...</td>\n      <td>...</td>\n      <td>...</td>\n      <td>...</td>\n      <td>...</td>\n      <td>...</td>\n      <td>...</td>\n      <td>...</td>\n      <td>...</td>\n      <td>...</td>\n      <td>...</td>\n      <td>...</td>\n      <td>...</td>\n      <td>...</td>\n      <td>...</td>\n      <td>...</td>\n      <td>...</td>\n      <td>...</td>\n      <td>...</td>\n      <td>...</td>\n      <td>...</td>\n    </tr>\n    <tr>\n      <th>676</th>\n      <td>NaN</td>\n      <td>NaT</td>\n      <td>NaN</td>\n      <td>NaN</td>\n      <td>NaN</td>\n      <td>NaN</td>\n      <td>NaN</td>\n      <td>NaN</td>\n      <td>NaN</td>\n      <td>NaN</td>\n      <td>...</td>\n      <td>NaN</td>\n      <td>NaN</td>\n      <td>NaN</td>\n      <td>NaN</td>\n      <td>NaN</td>\n      <td>NaN</td>\n      <td>NaN</td>\n      <td>NaN</td>\n      <td>NaN</td>\n      <td>NaN</td>\n    </tr>\n    <tr>\n      <th>677</th>\n      <td>NaN</td>\n      <td>NaT</td>\n      <td>NaN</td>\n      <td>NaN</td>\n      <td>NaN</td>\n      <td>NaN</td>\n      <td>NaN</td>\n      <td>NaN</td>\n      <td>NaN</td>\n      <td>NaN</td>\n      <td>...</td>\n      <td>NaN</td>\n      <td>NaN</td>\n      <td>NaN</td>\n      <td>NaN</td>\n      <td>NaN</td>\n      <td>NaN</td>\n      <td>NaN</td>\n      <td>NaN</td>\n      <td>NaN</td>\n      <td>NaN</td>\n    </tr>\n    <tr>\n      <th>678</th>\n      <td>This file is continuously modified by the gcn ...</td>\n      <td>NaT</td>\n      <td>NaN</td>\n      <td>NaN</td>\n      <td>NaN</td>\n      <td>NaN</td>\n      <td>NaN</td>\n      <td>NaN</td>\n      <td>NaN</td>\n      <td>NaN</td>\n      <td>...</td>\n      <td>NaN</td>\n      <td>NaN</td>\n      <td>NaN</td>\n      <td>NaN</td>\n      <td>NaN</td>\n      <td>NaN</td>\n      <td>NaN</td>\n      <td>NaN</td>\n      <td>NaN</td>\n      <td>NaN</td>\n    </tr>\n    <tr>\n      <th>679</th>\n      <td>NaN</td>\n      <td>NaT</td>\n      <td>NaN</td>\n      <td>NaN</td>\n      <td>NaN</td>\n      <td>NaN</td>\n      <td>NaN</td>\n      <td>NaN</td>\n      <td>NaN</td>\n      <td>NaN</td>\n      <td>...</td>\n      <td>NaN</td>\n      <td>NaN</td>\n      <td>NaN</td>\n      <td>NaN</td>\n      <td>NaN</td>\n      <td>NaN</td>\n      <td>NaN</td>\n      <td>NaN</td>\n      <td>NaN</td>\n      <td>NaN</td>\n    </tr>\n    <tr>\n      <th>680</th>\n      <td>This file was last modified by a human on 20-A...</td>\n      <td>NaT</td>\n      <td>NaN</td>\n      <td>NaN</td>\n      <td>NaN</td>\n      <td>NaN</td>\n      <td>NaN</td>\n      <td>NaN</td>\n      <td>NaN</td>\n      <td>NaN</td>\n      <td>...</td>\n      <td>NaN</td>\n      <td>NaN</td>\n      <td>NaN</td>\n      <td>NaN</td>\n      <td>NaN</td>\n      <td>NaN</td>\n      <td>NaN</td>\n      <td>NaN</td>\n      <td>NaN</td>\n      <td>NaN</td>\n    </tr>\n  </tbody>\n</table>\n<p>681 rows × 23 columns</p>\n</div>"
     },
     "execution_count": 31,
     "metadata": {},
     "output_type": "execute_result"
    }
   ],
   "source": [
    "sw = pd.read_csv('./data/swift.csv')\n",
    "sw[\"Date yy/mm/dd\"]=sw[\"Date yy/mm/dd\"].astype('datetime64[ns]')  #如果已为日期格式则此步骤可省略\n",
    "sw"
   ],
   "metadata": {
    "collapsed": false,
    "pycharm": {
     "name": "#%%\n"
    }
   }
  },
  {
   "cell_type": "code",
   "execution_count": 32,
   "outputs": [
    {
     "name": "stderr",
     "output_type": "stream",
     "text": [
      "/var/folders/w0/pdcqgg7107b13rvwb56gsrlc0000gn/T/ipykernel_97954/1203122322.py:13: SettingWithCopyWarning: \n",
      "A value is trying to be set on a copy of a slice from a DataFrame\n",
      "\n",
      "See the caveats in the documentation: https://pandas.pydata.org/pandas-docs/stable/user_guide/indexing.html#returning-a-view-versus-a-copy\n",
      "  sw['ra'][i] = sw['BAT RA'][i] if sw['BAT Error'][i] < sw['XRT Error'][i] else sw['XRT RA'][i]\n",
      "/var/folders/w0/pdcqgg7107b13rvwb56gsrlc0000gn/T/ipykernel_97954/1203122322.py:14: SettingWithCopyWarning: \n",
      "A value is trying to be set on a copy of a slice from a DataFrame\n",
      "\n",
      "See the caveats in the documentation: https://pandas.pydata.org/pandas-docs/stable/user_guide/indexing.html#returning-a-view-versus-a-copy\n",
      "  sw['dec'][i] = sw['BAT Dec'][i] if sw['BAT Error'][i] < sw['XRT Error'][i] else sw['XRT Dec'][i]\n",
      "/var/folders/w0/pdcqgg7107b13rvwb56gsrlc0000gn/T/ipykernel_97954/1203122322.py:7: SettingWithCopyWarning: \n",
      "A value is trying to be set on a copy of a slice from a DataFrame\n",
      "\n",
      "See the caveats in the documentation: https://pandas.pydata.org/pandas-docs/stable/user_guide/indexing.html#returning-a-view-versus-a-copy\n",
      "  sw['ra'][i] = sw['BAT RA'][i]\n",
      "/var/folders/w0/pdcqgg7107b13rvwb56gsrlc0000gn/T/ipykernel_97954/1203122322.py:8: SettingWithCopyWarning: \n",
      "A value is trying to be set on a copy of a slice from a DataFrame\n",
      "\n",
      "See the caveats in the documentation: https://pandas.pydata.org/pandas-docs/stable/user_guide/indexing.html#returning-a-view-versus-a-copy\n",
      "  sw['dec'][i] = sw['BAT Dec'][i]\n",
      "/var/folders/w0/pdcqgg7107b13rvwb56gsrlc0000gn/T/ipykernel_97954/1203122322.py:10: SettingWithCopyWarning: \n",
      "A value is trying to be set on a copy of a slice from a DataFrame\n",
      "\n",
      "See the caveats in the documentation: https://pandas.pydata.org/pandas-docs/stable/user_guide/indexing.html#returning-a-view-versus-a-copy\n",
      "  sw['ra'][i] = sw['XRT RA'][i]\n",
      "/var/folders/w0/pdcqgg7107b13rvwb56gsrlc0000gn/T/ipykernel_97954/1203122322.py:11: SettingWithCopyWarning: \n",
      "A value is trying to be set on a copy of a slice from a DataFrame\n",
      "\n",
      "See the caveats in the documentation: https://pandas.pydata.org/pandas-docs/stable/user_guide/indexing.html#returning-a-view-versus-a-copy\n",
      "  sw['dec'][i] = sw['XRT Dec'][i]\n"
     ]
    },
    {
     "data": {
      "text/plain": "          ra      dec   BAT RA  BAT Dec  BAT Error    XRT RA  XRT Dec  \\\n0    326.021 -34.4050  326.021  -34.405        3.0  326.0326 -34.4223   \n1     54.789 -27.4330   54.789  -27.433        3.0   54.6840 -27.2954   \n2    299.529  35.0050  299.529   35.005        3.0  299.5354  35.0978   \n3     77.083 -59.8321   77.095  -59.806        3.0   77.0830 -59.8321   \n4    266.933 -68.2600  266.933  -68.260        3.0  266.9227 -68.2488   \n..       ...      ...      ...      ...        ...       ...      ...   \n676      NaN      NaN      NaN      NaN        NaN       NaN      NaN   \n677      NaN      NaN      NaN      NaN        NaN       NaN      NaN   \n678      NaN      NaN      NaN      NaN        NaN       NaN      NaN   \n679      NaN      NaN      NaN      NaN        NaN       NaN      NaN   \n680      NaN      NaN      NaN      NaN        NaN       NaN      NaN   \n\n     XRT Error  \n0          4.8  \n1          5.2  \n2          5.3  \n3          1.9  \n4          3.7  \n..         ...  \n676        NaN  \n677        NaN  \n678        NaN  \n679        NaN  \n680        NaN  \n\n[681 rows x 8 columns]",
      "text/html": "<div>\n<style scoped>\n    .dataframe tbody tr th:only-of-type {\n        vertical-align: middle;\n    }\n\n    .dataframe tbody tr th {\n        vertical-align: top;\n    }\n\n    .dataframe thead th {\n        text-align: right;\n    }\n</style>\n<table border=\"1\" class=\"dataframe\">\n  <thead>\n    <tr style=\"text-align: right;\">\n      <th></th>\n      <th>ra</th>\n      <th>dec</th>\n      <th>BAT RA</th>\n      <th>BAT Dec</th>\n      <th>BAT Error</th>\n      <th>XRT RA</th>\n      <th>XRT Dec</th>\n      <th>XRT Error</th>\n    </tr>\n  </thead>\n  <tbody>\n    <tr>\n      <th>0</th>\n      <td>326.021</td>\n      <td>-34.4050</td>\n      <td>326.021</td>\n      <td>-34.405</td>\n      <td>3.0</td>\n      <td>326.0326</td>\n      <td>-34.4223</td>\n      <td>4.8</td>\n    </tr>\n    <tr>\n      <th>1</th>\n      <td>54.789</td>\n      <td>-27.4330</td>\n      <td>54.789</td>\n      <td>-27.433</td>\n      <td>3.0</td>\n      <td>54.6840</td>\n      <td>-27.2954</td>\n      <td>5.2</td>\n    </tr>\n    <tr>\n      <th>2</th>\n      <td>299.529</td>\n      <td>35.0050</td>\n      <td>299.529</td>\n      <td>35.005</td>\n      <td>3.0</td>\n      <td>299.5354</td>\n      <td>35.0978</td>\n      <td>5.3</td>\n    </tr>\n    <tr>\n      <th>3</th>\n      <td>77.083</td>\n      <td>-59.8321</td>\n      <td>77.095</td>\n      <td>-59.806</td>\n      <td>3.0</td>\n      <td>77.0830</td>\n      <td>-59.8321</td>\n      <td>1.9</td>\n    </tr>\n    <tr>\n      <th>4</th>\n      <td>266.933</td>\n      <td>-68.2600</td>\n      <td>266.933</td>\n      <td>-68.260</td>\n      <td>3.0</td>\n      <td>266.9227</td>\n      <td>-68.2488</td>\n      <td>3.7</td>\n    </tr>\n    <tr>\n      <th>...</th>\n      <td>...</td>\n      <td>...</td>\n      <td>...</td>\n      <td>...</td>\n      <td>...</td>\n      <td>...</td>\n      <td>...</td>\n      <td>...</td>\n    </tr>\n    <tr>\n      <th>676</th>\n      <td>NaN</td>\n      <td>NaN</td>\n      <td>NaN</td>\n      <td>NaN</td>\n      <td>NaN</td>\n      <td>NaN</td>\n      <td>NaN</td>\n      <td>NaN</td>\n    </tr>\n    <tr>\n      <th>677</th>\n      <td>NaN</td>\n      <td>NaN</td>\n      <td>NaN</td>\n      <td>NaN</td>\n      <td>NaN</td>\n      <td>NaN</td>\n      <td>NaN</td>\n      <td>NaN</td>\n    </tr>\n    <tr>\n      <th>678</th>\n      <td>NaN</td>\n      <td>NaN</td>\n      <td>NaN</td>\n      <td>NaN</td>\n      <td>NaN</td>\n      <td>NaN</td>\n      <td>NaN</td>\n      <td>NaN</td>\n    </tr>\n    <tr>\n      <th>679</th>\n      <td>NaN</td>\n      <td>NaN</td>\n      <td>NaN</td>\n      <td>NaN</td>\n      <td>NaN</td>\n      <td>NaN</td>\n      <td>NaN</td>\n      <td>NaN</td>\n    </tr>\n    <tr>\n      <th>680</th>\n      <td>NaN</td>\n      <td>NaN</td>\n      <td>NaN</td>\n      <td>NaN</td>\n      <td>NaN</td>\n      <td>NaN</td>\n      <td>NaN</td>\n      <td>NaN</td>\n    </tr>\n  </tbody>\n</table>\n<p>681 rows × 8 columns</p>\n</div>"
     },
     "execution_count": 32,
     "metadata": {},
     "output_type": "execute_result"
    }
   ],
   "source": [
    "sw['ra'] = np.zeros(sw.shape[0])\n",
    "sw['dec'] = np.zeros(sw.shape[0])\n",
    "\n",
    "import math\n",
    "for i in range(sw.shape[0]):\n",
    "    if math.isnan(sw['XRT Error'][i]):\n",
    "        sw['ra'][i] = sw['BAT RA'][i]\n",
    "        sw['dec'][i] = sw['BAT Dec'][i]\n",
    "    elif math.isnan(sw['BAT Error'][i]):\n",
    "        sw['ra'][i] = sw['XRT RA'][i]\n",
    "        sw['dec'][i] = sw['XRT Dec'][i]\n",
    "    else: #math.isnan(sw['BAT Error'][i])) & (not(math.isnan(sw['XRT Error'][i])))\n",
    "        sw['ra'][i] = sw['BAT RA'][i] if sw['BAT Error'][i] < sw['XRT Error'][i] else sw['XRT RA'][i]\n",
    "        sw['dec'][i] = sw['BAT Dec'][i] if sw['BAT Error'][i] < sw['XRT Error'][i] else sw['XRT Dec'][i]\n",
    "\n",
    "sw[['ra','dec','BAT RA','BAT Dec','BAT Error','XRT RA','XRT Dec','XRT Error']]"
   ],
   "metadata": {
    "collapsed": false,
    "pycharm": {
     "name": "#%%\n"
    }
   }
  },
  {
   "cell_type": "code",
   "execution_count": 33,
   "outputs": [
    {
     "data": {
      "text/plain": "       Trig Date yy/mm/dd   Time UT   BAT RA  BAT Dec  BAT Error    XRT RA  \\\n0   1091101    2021-12-27  23:32:07  132.126   -2.702        3.0  132.1489   \n1   1090853    2021-12-25  13:12:19  258.568   17.262        3.0       NaN   \n2   1090656    2021-12-23  14:29:27  227.164  -26.873        3.0       NaN   \n3   1090472    2021-12-21  20:48:41   78.938    0.940        3.0   78.8983   \n4   1088940    2021-12-11  13:10:00  212.272   27.884        3.0  212.2912   \n..      ...           ...       ...      ...      ...        ...       ...   \n93  1016010    2021-01-05  11:55:02  244.978  -15.844        3.0       NaN   \n94  1015919    2021-01-04  21:10:11   53.601   37.931        3.0   53.5538   \n95  1015873    2021-01-04  11:26:59  103.705   64.661        3.0  103.7707   \n96  1015728    2021-01-02  20:38:11  235.737  -37.222        3.0       NaN   \n97  1015615    2021-01-02   0:17:13  234.703  -84.189        3.0  234.9978   \n\n    XRT Dec  XRT Error  UVOT RA  ...                   XS2 XS2p  \\\n0   -2.7355        3.8      NaN  ...  FITS JPEG GIF PDF PS  NaN   \n1       NaN        NaN      NaN  ...                   NaN  NaN   \n2       NaN        NaN      NaN  ...                   NaN  NaN   \n3    0.9144        3.5      NaN  ...  FITS JPEG GIF PDF PS  NaN   \n4   27.8899        5.0      NaN  ...  FITS JPEG GIF PDF PS  NaN   \n..      ...        ...      ...  ...                   ...  ...   \n93      NaN        NaN      NaN  ...                   NaN  NaN   \n94  37.9301        2.5      NaN  ...  FITS JPEG GIF PDF PS  NaN   \n95  64.6743        5.3      NaN  ...  FITS JPEG GIF PDF PS  NaN   \n96      NaN        NaN      NaN  ...                   NaN  NaN   \n97 -84.4012        5.0      NaN  ...  FITS JPEG GIF PDF PS  NaN   \n\n                     XIM                  XIMp  \\\n0   FITS JPEG GIF PDF PS  FITS JPEG GIF PDF PS   \n1                    NaN                   NaN   \n2                    NaN                   NaN   \n3   FITS JPEG GIF PDF PS  FITS JPEG GIF PDF PS   \n4   FITS JPEG GIF PDF PS  FITS JPEG GIF PDF PS   \n..                   ...                   ...   \n93                   NaN                   NaN   \n94                   NaN                   NaN   \n95  FITS JPEG GIF PDF PS  FITS JPEG GIF PDF PS   \n96                   NaN                   NaN   \n97  FITS JPEG GIF PDF PS  FITS JPEG GIF PDF PS   \n\n                                                  USL  \\\n0   FITS1 JPEG1 GIF1 PDF1 PS1 FITS2 JPEG2 GIF2 PDF...   \n1                                                 NaN   \n2                                                 NaN   \n3   FITS1 JPEG1 GIF1 PDF1 PS1 FITS2 JPEG2 GIF2 PDF...   \n4                           FITS1 JPEG1 GIF1 PDF1 PS1   \n..                                                ...   \n93                                                NaN   \n94  FITS1 JPEG1 GIF1 PDF1 PS1 FITS2 JPEG2 GIF2 PDF...   \n95  FITS1 JPEG1 GIF1 PDF1 PS1 FITS2 JPEG2 GIF2 PDF...   \n96                                                NaN   \n97                          FITS1 JPEG1 GIF1 PDF1 PS1   \n\n                                                 USLp  \\\n0   SKY1 SOURCES1 CATALOG1 FIELD_PS1 FIELD_JPEG1 F...   \n1                                                 NaN   \n2                                                 NaN   \n3   SKY1 SOURCES1 CATALOG1 FIELD_PS1 FIELD_JPEG1 F...   \n4   SKY1 SOURCES1 CATALOG1 FIELD_PS1 FIELD_JPEG1 F...   \n..                                                ...   \n93                                                NaN   \n94  SKY1 SOURCES1 CATALOG1 FIELD_PS1 FIELD_JPEG1 F...   \n95  SKY1 SOURCES1 CATALOG1 FIELD_PS1 FIELD_JPEG1 F...   \n96                                                NaN   \n97  SKY1 SOURCES1 CATALOG1 FIELD_PS1 FIELD_JPEG1 F...   \n\n                                                  UIM  \\\n0   FITS1 JPEG1 GIF1 PDF1 PS1 FITS2 JPEG2 GIF2 PDF...   \n1                                                 NaN   \n2                                                 NaN   \n3   FITS1 JPEG1 GIF1 PDF1 PS1 FITS2 JPEG2 GIF2 PDF...   \n4                                                 NaN   \n..                                                ...   \n93                                                NaN   \n94  FITS1 JPEG1 GIF1 PDF1 PS1 FITS2 JPEG2 GIF2 PDF...   \n95  FITS1 JPEG1 GIF1 PDF1 PS1 FITS2 JPEG2 GIF2 PDF...   \n96                                                NaN   \n97                          FITS1 JPEG1 GIF1 PDF1 PS1   \n\n                                                 UIMp        ra      dec  \n0   SKY1 SOURCES1 FIELD_PS1 FIELD_JPEG1 FIELD_GIF1...  132.1260  -2.7020  \n1                                                 NaN  258.5680  17.2620  \n2                                                 NaN  227.1640 -26.8730  \n3   SKY1 SOURCES1 FIELD_PS1 FIELD_JPEG1 FIELD_GIF1...   78.9380   0.9400  \n4                                                 NaN  212.2720  27.8840  \n..                                                ...       ...      ...  \n93                                                NaN  244.9780 -15.8440  \n94  SKY1 SOURCES1 FIELD_PS1 FIELD_JPEG1 FIELD_GIF1...   53.5538  37.9301  \n95  SKY1 SOURCES1 FIELD_PS1 FIELD_JPEG1 FIELD_GIF1...  103.7050  64.6610  \n96                                                NaN  235.7370 -37.2220  \n97  SKY1 SOURCES1 FIELD_PS1 FIELD_JPEG1 FIELD_GIF1...  234.7030 -84.1890  \n\n[98 rows x 25 columns]",
      "text/html": "<div>\n<style scoped>\n    .dataframe tbody tr th:only-of-type {\n        vertical-align: middle;\n    }\n\n    .dataframe tbody tr th {\n        vertical-align: top;\n    }\n\n    .dataframe thead th {\n        text-align: right;\n    }\n</style>\n<table border=\"1\" class=\"dataframe\">\n  <thead>\n    <tr style=\"text-align: right;\">\n      <th></th>\n      <th>Trig</th>\n      <th>Date yy/mm/dd</th>\n      <th>Time UT</th>\n      <th>BAT RA</th>\n      <th>BAT Dec</th>\n      <th>BAT Error</th>\n      <th>XRT RA</th>\n      <th>XRT Dec</th>\n      <th>XRT Error</th>\n      <th>UVOT RA</th>\n      <th>...</th>\n      <th>XS2</th>\n      <th>XS2p</th>\n      <th>XIM</th>\n      <th>XIMp</th>\n      <th>USL</th>\n      <th>USLp</th>\n      <th>UIM</th>\n      <th>UIMp</th>\n      <th>ra</th>\n      <th>dec</th>\n    </tr>\n  </thead>\n  <tbody>\n    <tr>\n      <th>0</th>\n      <td>1091101</td>\n      <td>2021-12-27</td>\n      <td>23:32:07</td>\n      <td>132.126</td>\n      <td>-2.702</td>\n      <td>3.0</td>\n      <td>132.1489</td>\n      <td>-2.7355</td>\n      <td>3.8</td>\n      <td>NaN</td>\n      <td>...</td>\n      <td>FITS JPEG GIF PDF PS</td>\n      <td>NaN</td>\n      <td>FITS JPEG GIF PDF PS</td>\n      <td>FITS JPEG GIF PDF PS</td>\n      <td>FITS1 JPEG1 GIF1 PDF1 PS1 FITS2 JPEG2 GIF2 PDF...</td>\n      <td>SKY1 SOURCES1 CATALOG1 FIELD_PS1 FIELD_JPEG1 F...</td>\n      <td>FITS1 JPEG1 GIF1 PDF1 PS1 FITS2 JPEG2 GIF2 PDF...</td>\n      <td>SKY1 SOURCES1 FIELD_PS1 FIELD_JPEG1 FIELD_GIF1...</td>\n      <td>132.1260</td>\n      <td>-2.7020</td>\n    </tr>\n    <tr>\n      <th>1</th>\n      <td>1090853</td>\n      <td>2021-12-25</td>\n      <td>13:12:19</td>\n      <td>258.568</td>\n      <td>17.262</td>\n      <td>3.0</td>\n      <td>NaN</td>\n      <td>NaN</td>\n      <td>NaN</td>\n      <td>NaN</td>\n      <td>...</td>\n      <td>NaN</td>\n      <td>NaN</td>\n      <td>NaN</td>\n      <td>NaN</td>\n      <td>NaN</td>\n      <td>NaN</td>\n      <td>NaN</td>\n      <td>NaN</td>\n      <td>258.5680</td>\n      <td>17.2620</td>\n    </tr>\n    <tr>\n      <th>2</th>\n      <td>1090656</td>\n      <td>2021-12-23</td>\n      <td>14:29:27</td>\n      <td>227.164</td>\n      <td>-26.873</td>\n      <td>3.0</td>\n      <td>NaN</td>\n      <td>NaN</td>\n      <td>NaN</td>\n      <td>NaN</td>\n      <td>...</td>\n      <td>NaN</td>\n      <td>NaN</td>\n      <td>NaN</td>\n      <td>NaN</td>\n      <td>NaN</td>\n      <td>NaN</td>\n      <td>NaN</td>\n      <td>NaN</td>\n      <td>227.1640</td>\n      <td>-26.8730</td>\n    </tr>\n    <tr>\n      <th>3</th>\n      <td>1090472</td>\n      <td>2021-12-21</td>\n      <td>20:48:41</td>\n      <td>78.938</td>\n      <td>0.940</td>\n      <td>3.0</td>\n      <td>78.8983</td>\n      <td>0.9144</td>\n      <td>3.5</td>\n      <td>NaN</td>\n      <td>...</td>\n      <td>FITS JPEG GIF PDF PS</td>\n      <td>NaN</td>\n      <td>FITS JPEG GIF PDF PS</td>\n      <td>FITS JPEG GIF PDF PS</td>\n      <td>FITS1 JPEG1 GIF1 PDF1 PS1 FITS2 JPEG2 GIF2 PDF...</td>\n      <td>SKY1 SOURCES1 CATALOG1 FIELD_PS1 FIELD_JPEG1 F...</td>\n      <td>FITS1 JPEG1 GIF1 PDF1 PS1 FITS2 JPEG2 GIF2 PDF...</td>\n      <td>SKY1 SOURCES1 FIELD_PS1 FIELD_JPEG1 FIELD_GIF1...</td>\n      <td>78.9380</td>\n      <td>0.9400</td>\n    </tr>\n    <tr>\n      <th>4</th>\n      <td>1088940</td>\n      <td>2021-12-11</td>\n      <td>13:10:00</td>\n      <td>212.272</td>\n      <td>27.884</td>\n      <td>3.0</td>\n      <td>212.2912</td>\n      <td>27.8899</td>\n      <td>5.0</td>\n      <td>NaN</td>\n      <td>...</td>\n      <td>FITS JPEG GIF PDF PS</td>\n      <td>NaN</td>\n      <td>FITS JPEG GIF PDF PS</td>\n      <td>FITS JPEG GIF PDF PS</td>\n      <td>FITS1 JPEG1 GIF1 PDF1 PS1</td>\n      <td>SKY1 SOURCES1 CATALOG1 FIELD_PS1 FIELD_JPEG1 F...</td>\n      <td>NaN</td>\n      <td>NaN</td>\n      <td>212.2720</td>\n      <td>27.8840</td>\n    </tr>\n    <tr>\n      <th>...</th>\n      <td>...</td>\n      <td>...</td>\n      <td>...</td>\n      <td>...</td>\n      <td>...</td>\n      <td>...</td>\n      <td>...</td>\n      <td>...</td>\n      <td>...</td>\n      <td>...</td>\n      <td>...</td>\n      <td>...</td>\n      <td>...</td>\n      <td>...</td>\n      <td>...</td>\n      <td>...</td>\n      <td>...</td>\n      <td>...</td>\n      <td>...</td>\n      <td>...</td>\n      <td>...</td>\n    </tr>\n    <tr>\n      <th>93</th>\n      <td>1016010</td>\n      <td>2021-01-05</td>\n      <td>11:55:02</td>\n      <td>244.978</td>\n      <td>-15.844</td>\n      <td>3.0</td>\n      <td>NaN</td>\n      <td>NaN</td>\n      <td>NaN</td>\n      <td>NaN</td>\n      <td>...</td>\n      <td>NaN</td>\n      <td>NaN</td>\n      <td>NaN</td>\n      <td>NaN</td>\n      <td>NaN</td>\n      <td>NaN</td>\n      <td>NaN</td>\n      <td>NaN</td>\n      <td>244.9780</td>\n      <td>-15.8440</td>\n    </tr>\n    <tr>\n      <th>94</th>\n      <td>1015919</td>\n      <td>2021-01-04</td>\n      <td>21:10:11</td>\n      <td>53.601</td>\n      <td>37.931</td>\n      <td>3.0</td>\n      <td>53.5538</td>\n      <td>37.9301</td>\n      <td>2.5</td>\n      <td>NaN</td>\n      <td>...</td>\n      <td>FITS JPEG GIF PDF PS</td>\n      <td>NaN</td>\n      <td>NaN</td>\n      <td>NaN</td>\n      <td>FITS1 JPEG1 GIF1 PDF1 PS1 FITS2 JPEG2 GIF2 PDF...</td>\n      <td>SKY1 SOURCES1 CATALOG1 FIELD_PS1 FIELD_JPEG1 F...</td>\n      <td>FITS1 JPEG1 GIF1 PDF1 PS1 FITS2 JPEG2 GIF2 PDF...</td>\n      <td>SKY1 SOURCES1 FIELD_PS1 FIELD_JPEG1 FIELD_GIF1...</td>\n      <td>53.5538</td>\n      <td>37.9301</td>\n    </tr>\n    <tr>\n      <th>95</th>\n      <td>1015873</td>\n      <td>2021-01-04</td>\n      <td>11:26:59</td>\n      <td>103.705</td>\n      <td>64.661</td>\n      <td>3.0</td>\n      <td>103.7707</td>\n      <td>64.6743</td>\n      <td>5.3</td>\n      <td>NaN</td>\n      <td>...</td>\n      <td>FITS JPEG GIF PDF PS</td>\n      <td>NaN</td>\n      <td>FITS JPEG GIF PDF PS</td>\n      <td>FITS JPEG GIF PDF PS</td>\n      <td>FITS1 JPEG1 GIF1 PDF1 PS1 FITS2 JPEG2 GIF2 PDF...</td>\n      <td>SKY1 SOURCES1 CATALOG1 FIELD_PS1 FIELD_JPEG1 F...</td>\n      <td>FITS1 JPEG1 GIF1 PDF1 PS1 FITS2 JPEG2 GIF2 PDF...</td>\n      <td>SKY1 SOURCES1 FIELD_PS1 FIELD_JPEG1 FIELD_GIF1...</td>\n      <td>103.7050</td>\n      <td>64.6610</td>\n    </tr>\n    <tr>\n      <th>96</th>\n      <td>1015728</td>\n      <td>2021-01-02</td>\n      <td>20:38:11</td>\n      <td>235.737</td>\n      <td>-37.222</td>\n      <td>3.0</td>\n      <td>NaN</td>\n      <td>NaN</td>\n      <td>NaN</td>\n      <td>NaN</td>\n      <td>...</td>\n      <td>NaN</td>\n      <td>NaN</td>\n      <td>NaN</td>\n      <td>NaN</td>\n      <td>NaN</td>\n      <td>NaN</td>\n      <td>NaN</td>\n      <td>NaN</td>\n      <td>235.7370</td>\n      <td>-37.2220</td>\n    </tr>\n    <tr>\n      <th>97</th>\n      <td>1015615</td>\n      <td>2021-01-02</td>\n      <td>0:17:13</td>\n      <td>234.703</td>\n      <td>-84.189</td>\n      <td>3.0</td>\n      <td>234.9978</td>\n      <td>-84.4012</td>\n      <td>5.0</td>\n      <td>NaN</td>\n      <td>...</td>\n      <td>FITS JPEG GIF PDF PS</td>\n      <td>NaN</td>\n      <td>FITS JPEG GIF PDF PS</td>\n      <td>FITS JPEG GIF PDF PS</td>\n      <td>FITS1 JPEG1 GIF1 PDF1 PS1</td>\n      <td>SKY1 SOURCES1 CATALOG1 FIELD_PS1 FIELD_JPEG1 F...</td>\n      <td>FITS1 JPEG1 GIF1 PDF1 PS1</td>\n      <td>SKY1 SOURCES1 FIELD_PS1 FIELD_JPEG1 FIELD_GIF1...</td>\n      <td>234.7030</td>\n      <td>-84.1890</td>\n    </tr>\n  </tbody>\n</table>\n<p>98 rows × 25 columns</p>\n</div>"
     },
     "execution_count": 33,
     "metadata": {},
     "output_type": "execute_result"
    }
   ],
   "source": [
    "sw2 = sw[(sw[\"Date yy/mm/dd\"]>='2021/01/01') & (sw[\"Date yy/mm/dd\"]<='2021/12/31')]\n",
    "sw2 = sw2.reset_index(drop=True)\n",
    "sw2"
   ],
   "metadata": {
    "collapsed": false,
    "pycharm": {
     "name": "#%%\n"
    }
   }
  },
  {
   "cell_type": "code",
   "execution_count": 34,
   "outputs": [],
   "source": [
    "sw2.to_csv('Swift2021.csv')"
   ],
   "metadata": {
    "collapsed": false,
    "pycharm": {
     "name": "#%%\n"
    }
   }
  },
  {
   "cell_type": "code",
   "execution_count": 35,
   "outputs": [],
   "source": [
    "fermi = pd.read_csv('./Fermi2021.csv')\n",
    "integral = pd.read_csv('./Integral2021.csv')\n",
    "swift = pd.read_csv('./Swift2021.csv')"
   ],
   "metadata": {
    "collapsed": false,
    "pycharm": {
     "name": "#%%\n"
    }
   }
  },
  {
   "cell_type": "code",
   "execution_count": 36,
   "outputs": [
    {
     "data": {
      "text/plain": "   Unnamed: 0    TrigNum        Date   Time UT            MesgType     RA  \\\n0           0  631205591  2021-01-01  14:53:07  GBM Final Position  136.7   \n1           1  631226368  2021-01-01  20:39:24  GBM Final Position   10.3   \n\n     Dec  Error                                           Comments  \n0  50.10   4.56  Fermi-GBM Final Position. This Notice was grou...  \n1  -6.91   5.18  Fermi-GBM Final Position. This Notice was grou...  ",
      "text/html": "<div>\n<style scoped>\n    .dataframe tbody tr th:only-of-type {\n        vertical-align: middle;\n    }\n\n    .dataframe tbody tr th {\n        vertical-align: top;\n    }\n\n    .dataframe thead th {\n        text-align: right;\n    }\n</style>\n<table border=\"1\" class=\"dataframe\">\n  <thead>\n    <tr style=\"text-align: right;\">\n      <th></th>\n      <th>Unnamed: 0</th>\n      <th>TrigNum</th>\n      <th>Date</th>\n      <th>Time UT</th>\n      <th>MesgType</th>\n      <th>RA</th>\n      <th>Dec</th>\n      <th>Error</th>\n      <th>Comments</th>\n    </tr>\n  </thead>\n  <tbody>\n    <tr>\n      <th>0</th>\n      <td>0</td>\n      <td>631205591</td>\n      <td>2021-01-01</td>\n      <td>14:53:07</td>\n      <td>GBM Final Position</td>\n      <td>136.7</td>\n      <td>50.10</td>\n      <td>4.56</td>\n      <td>Fermi-GBM Final Position. This Notice was grou...</td>\n    </tr>\n    <tr>\n      <th>1</th>\n      <td>1</td>\n      <td>631226368</td>\n      <td>2021-01-01</td>\n      <td>20:39:24</td>\n      <td>GBM Final Position</td>\n      <td>10.3</td>\n      <td>-6.91</td>\n      <td>5.18</td>\n      <td>Fermi-GBM Final Position. This Notice was grou...</td>\n    </tr>\n  </tbody>\n</table>\n</div>"
     },
     "execution_count": 36,
     "metadata": {},
     "output_type": "execute_result"
    }
   ],
   "source": [
    "fermi.head(2)"
   ],
   "metadata": {
    "collapsed": false,
    "pycharm": {
     "name": "#%%\n"
    }
   }
  },
  {
   "cell_type": "code",
   "execution_count": 37,
   "outputs": [
    {
     "data": {
      "text/plain": "   Unnamed: 0 Trig,SubNums        Date   Time UT  Mesg        RA      Dec  \\\n0           0       8917,0  2021-01-03  19:01:56  Weak  347.5740  63.9828   \n1           1       8916,0  2021-01-03   7:58:23  Weak  355.5581  56.1622   \n\n   Error  Inten                                           Comments  Trig  \n0   3.55   6.89  INTEGRAL GRB Coordinates -- this is the weak/s...  8917  \n1   3.72   6.28  INTEGRAL GRB Coordinates -- this is the weak/s...  8916  ",
      "text/html": "<div>\n<style scoped>\n    .dataframe tbody tr th:only-of-type {\n        vertical-align: middle;\n    }\n\n    .dataframe tbody tr th {\n        vertical-align: top;\n    }\n\n    .dataframe thead th {\n        text-align: right;\n    }\n</style>\n<table border=\"1\" class=\"dataframe\">\n  <thead>\n    <tr style=\"text-align: right;\">\n      <th></th>\n      <th>Unnamed: 0</th>\n      <th>Trig,SubNums</th>\n      <th>Date</th>\n      <th>Time UT</th>\n      <th>Mesg</th>\n      <th>RA</th>\n      <th>Dec</th>\n      <th>Error</th>\n      <th>Inten</th>\n      <th>Comments</th>\n      <th>Trig</th>\n    </tr>\n  </thead>\n  <tbody>\n    <tr>\n      <th>0</th>\n      <td>0</td>\n      <td>8917,0</td>\n      <td>2021-01-03</td>\n      <td>19:01:56</td>\n      <td>Weak</td>\n      <td>347.5740</td>\n      <td>63.9828</td>\n      <td>3.55</td>\n      <td>6.89</td>\n      <td>INTEGRAL GRB Coordinates -- this is the weak/s...</td>\n      <td>8917</td>\n    </tr>\n    <tr>\n      <th>1</th>\n      <td>1</td>\n      <td>8916,0</td>\n      <td>2021-01-03</td>\n      <td>7:58:23</td>\n      <td>Weak</td>\n      <td>355.5581</td>\n      <td>56.1622</td>\n      <td>3.72</td>\n      <td>6.28</td>\n      <td>INTEGRAL GRB Coordinates -- this is the weak/s...</td>\n      <td>8916</td>\n    </tr>\n  </tbody>\n</table>\n</div>"
     },
     "execution_count": 37,
     "metadata": {},
     "output_type": "execute_result"
    }
   ],
   "source": [
    "integral.head(2)"
   ],
   "metadata": {
    "collapsed": false,
    "pycharm": {
     "name": "#%%\n"
    }
   }
  },
  {
   "cell_type": "code",
   "execution_count": 38,
   "outputs": [
    {
     "data": {
      "text/plain": "   Unnamed: 0     Trig Date yy/mm/dd   Time UT   BAT RA  BAT Dec  BAT Error  \\\n0           0  1091101    2021-12-27  23:32:07  132.126   -2.702        3.0   \n1           1  1090853    2021-12-25  13:12:19  258.568   17.262        3.0   \n\n     XRT RA  XRT Dec  XRT Error  ...                   XS2  XS2p  \\\n0  132.1489  -2.7355        3.8  ...  FITS JPEG GIF PDF PS   NaN   \n1       NaN      NaN        NaN  ...                   NaN   NaN   \n\n                    XIM                  XIMp  \\\n0  FITS JPEG GIF PDF PS  FITS JPEG GIF PDF PS   \n1                   NaN                   NaN   \n\n                                                 USL  \\\n0  FITS1 JPEG1 GIF1 PDF1 PS1 FITS2 JPEG2 GIF2 PDF...   \n1                                                NaN   \n\n                                                USLp  \\\n0  SKY1 SOURCES1 CATALOG1 FIELD_PS1 FIELD_JPEG1 F...   \n1                                                NaN   \n\n                                                 UIM  \\\n0  FITS1 JPEG1 GIF1 PDF1 PS1 FITS2 JPEG2 GIF2 PDF...   \n1                                                NaN   \n\n                                                UIMp       ra     dec  \n0  SKY1 SOURCES1 FIELD_PS1 FIELD_JPEG1 FIELD_GIF1...  132.126  -2.702  \n1                                                NaN  258.568  17.262  \n\n[2 rows x 26 columns]",
      "text/html": "<div>\n<style scoped>\n    .dataframe tbody tr th:only-of-type {\n        vertical-align: middle;\n    }\n\n    .dataframe tbody tr th {\n        vertical-align: top;\n    }\n\n    .dataframe thead th {\n        text-align: right;\n    }\n</style>\n<table border=\"1\" class=\"dataframe\">\n  <thead>\n    <tr style=\"text-align: right;\">\n      <th></th>\n      <th>Unnamed: 0</th>\n      <th>Trig</th>\n      <th>Date yy/mm/dd</th>\n      <th>Time UT</th>\n      <th>BAT RA</th>\n      <th>BAT Dec</th>\n      <th>BAT Error</th>\n      <th>XRT RA</th>\n      <th>XRT Dec</th>\n      <th>XRT Error</th>\n      <th>...</th>\n      <th>XS2</th>\n      <th>XS2p</th>\n      <th>XIM</th>\n      <th>XIMp</th>\n      <th>USL</th>\n      <th>USLp</th>\n      <th>UIM</th>\n      <th>UIMp</th>\n      <th>ra</th>\n      <th>dec</th>\n    </tr>\n  </thead>\n  <tbody>\n    <tr>\n      <th>0</th>\n      <td>0</td>\n      <td>1091101</td>\n      <td>2021-12-27</td>\n      <td>23:32:07</td>\n      <td>132.126</td>\n      <td>-2.702</td>\n      <td>3.0</td>\n      <td>132.1489</td>\n      <td>-2.7355</td>\n      <td>3.8</td>\n      <td>...</td>\n      <td>FITS JPEG GIF PDF PS</td>\n      <td>NaN</td>\n      <td>FITS JPEG GIF PDF PS</td>\n      <td>FITS JPEG GIF PDF PS</td>\n      <td>FITS1 JPEG1 GIF1 PDF1 PS1 FITS2 JPEG2 GIF2 PDF...</td>\n      <td>SKY1 SOURCES1 CATALOG1 FIELD_PS1 FIELD_JPEG1 F...</td>\n      <td>FITS1 JPEG1 GIF1 PDF1 PS1 FITS2 JPEG2 GIF2 PDF...</td>\n      <td>SKY1 SOURCES1 FIELD_PS1 FIELD_JPEG1 FIELD_GIF1...</td>\n      <td>132.126</td>\n      <td>-2.702</td>\n    </tr>\n    <tr>\n      <th>1</th>\n      <td>1</td>\n      <td>1090853</td>\n      <td>2021-12-25</td>\n      <td>13:12:19</td>\n      <td>258.568</td>\n      <td>17.262</td>\n      <td>3.0</td>\n      <td>NaN</td>\n      <td>NaN</td>\n      <td>NaN</td>\n      <td>...</td>\n      <td>NaN</td>\n      <td>NaN</td>\n      <td>NaN</td>\n      <td>NaN</td>\n      <td>NaN</td>\n      <td>NaN</td>\n      <td>NaN</td>\n      <td>NaN</td>\n      <td>258.568</td>\n      <td>17.262</td>\n    </tr>\n  </tbody>\n</table>\n<p>2 rows × 26 columns</p>\n</div>"
     },
     "execution_count": 38,
     "metadata": {},
     "output_type": "execute_result"
    }
   ],
   "source": [
    "swift.head(2)"
   ],
   "metadata": {
    "collapsed": false,
    "pycharm": {
     "name": "#%%\n"
    }
   }
  },
  {
   "cell_type": "code",
   "execution_count": 39,
   "outputs": [],
   "source": [
    "data = [[list(fermi['TrigNum']),list(integral['Trig']),list(swift['Trig'])][0],\n",
    " [list(fermi['Date']),list(integral['Date']),list(swift['Date yy/mm/dd'])][0]]"
   ],
   "metadata": {
    "collapsed": false,
    "pycharm": {
     "name": "#%%\n"
    }
   }
  },
  {
   "cell_type": "code",
   "execution_count": 40,
   "outputs": [
    {
     "data": {
      "text/plain": "           Trig        Date   Time UT        Ra      Dec    Sat\n0     631205591  2021-01-01  14:53:07  136.7000  50.1000  Fermi\n1     631226368  2021-01-01  20:39:24   10.3000  -6.9100  Fermi\n2     631312759  2021-01-02  20:39:14  232.7000 -27.5400  Fermi\n3     631452424  2021-01-04  11:27:00  110.7700  68.7200  Fermi\n4     631555390  2021-01-05  16:03:06   70.9900 -36.8300  Fermi\n...         ...         ...       ...       ...      ...    ...\n1024    1016010  2021-01-05  11:55:02  244.9780 -15.8440  Swift\n1025    1015919  2021-01-04  21:10:11   53.5538  37.9301  Swift\n1026    1015873  2021-01-04  11:26:59  103.7050  64.6610  Swift\n1027    1015728  2021-01-02  20:38:11  235.7370 -37.2220  Swift\n1028    1015615  2021-01-02   0:17:13  234.7030 -84.1890  Swift\n\n[1029 rows x 6 columns]",
      "text/html": "<div>\n<style scoped>\n    .dataframe tbody tr th:only-of-type {\n        vertical-align: middle;\n    }\n\n    .dataframe tbody tr th {\n        vertical-align: top;\n    }\n\n    .dataframe thead th {\n        text-align: right;\n    }\n</style>\n<table border=\"1\" class=\"dataframe\">\n  <thead>\n    <tr style=\"text-align: right;\">\n      <th></th>\n      <th>Trig</th>\n      <th>Date</th>\n      <th>Time UT</th>\n      <th>Ra</th>\n      <th>Dec</th>\n      <th>Sat</th>\n    </tr>\n  </thead>\n  <tbody>\n    <tr>\n      <th>0</th>\n      <td>631205591</td>\n      <td>2021-01-01</td>\n      <td>14:53:07</td>\n      <td>136.7000</td>\n      <td>50.1000</td>\n      <td>Fermi</td>\n    </tr>\n    <tr>\n      <th>1</th>\n      <td>631226368</td>\n      <td>2021-01-01</td>\n      <td>20:39:24</td>\n      <td>10.3000</td>\n      <td>-6.9100</td>\n      <td>Fermi</td>\n    </tr>\n    <tr>\n      <th>2</th>\n      <td>631312759</td>\n      <td>2021-01-02</td>\n      <td>20:39:14</td>\n      <td>232.7000</td>\n      <td>-27.5400</td>\n      <td>Fermi</td>\n    </tr>\n    <tr>\n      <th>3</th>\n      <td>631452424</td>\n      <td>2021-01-04</td>\n      <td>11:27:00</td>\n      <td>110.7700</td>\n      <td>68.7200</td>\n      <td>Fermi</td>\n    </tr>\n    <tr>\n      <th>4</th>\n      <td>631555390</td>\n      <td>2021-01-05</td>\n      <td>16:03:06</td>\n      <td>70.9900</td>\n      <td>-36.8300</td>\n      <td>Fermi</td>\n    </tr>\n    <tr>\n      <th>...</th>\n      <td>...</td>\n      <td>...</td>\n      <td>...</td>\n      <td>...</td>\n      <td>...</td>\n      <td>...</td>\n    </tr>\n    <tr>\n      <th>1024</th>\n      <td>1016010</td>\n      <td>2021-01-05</td>\n      <td>11:55:02</td>\n      <td>244.9780</td>\n      <td>-15.8440</td>\n      <td>Swift</td>\n    </tr>\n    <tr>\n      <th>1025</th>\n      <td>1015919</td>\n      <td>2021-01-04</td>\n      <td>21:10:11</td>\n      <td>53.5538</td>\n      <td>37.9301</td>\n      <td>Swift</td>\n    </tr>\n    <tr>\n      <th>1026</th>\n      <td>1015873</td>\n      <td>2021-01-04</td>\n      <td>11:26:59</td>\n      <td>103.7050</td>\n      <td>64.6610</td>\n      <td>Swift</td>\n    </tr>\n    <tr>\n      <th>1027</th>\n      <td>1015728</td>\n      <td>2021-01-02</td>\n      <td>20:38:11</td>\n      <td>235.7370</td>\n      <td>-37.2220</td>\n      <td>Swift</td>\n    </tr>\n    <tr>\n      <th>1028</th>\n      <td>1015615</td>\n      <td>2021-01-02</td>\n      <td>0:17:13</td>\n      <td>234.7030</td>\n      <td>-84.1890</td>\n      <td>Swift</td>\n    </tr>\n  </tbody>\n</table>\n<p>1029 rows × 6 columns</p>\n</div>"
     },
     "execution_count": 40,
     "metadata": {},
     "output_type": "execute_result"
    }
   ],
   "source": [
    "df3 = pd.DataFrame({'Trig':list(fermi['TrigNum'])+list(integral['Trig'])+list(swift['Trig']),\n",
    "                    'Date':list(fermi['Date'])+list(integral['Date'])+list(swift['Date yy/mm/dd']),\n",
    "                    'Time UT':list(fermi['Time UT'])+list(integral['Time UT'])+list(swift['Time UT']),\n",
    "                    'Ra':list(fermi['RA'])+list(integral['RA'])+list(swift['ra']),\n",
    "                    'Dec':list(fermi['Dec'])+list(integral['Dec'])+list(swift['dec']),\n",
    "                    'Sat':['Fermi']*fermi.shape[0] + ['Integral']*integral.shape[0] + ['Swift']*swift.shape[0]\n",
    "                    })\n",
    "df3"
   ],
   "metadata": {
    "collapsed": false,
    "pycharm": {
     "name": "#%%\n"
    }
   }
  },
  {
   "cell_type": "code",
   "execution_count": 53,
   "outputs": [
    {
     "data": {
      "text/plain": "           Trig        Date   Time UT        Ra      Dec       Sat  \\\n0     631205591  2021-01-01  14:53:07  136.7000  50.1000     Fermi   \n1     631226368  2021-01-01  20:39:24   10.3000  -6.9100     Fermi   \n1028    1015615  2021-01-02   0:17:13  234.7030 -84.1890     Swift   \n1027    1015728  2021-01-02  20:38:11  235.7370 -37.2220     Swift   \n2     631312759  2021-01-02  20:39:14  232.7000 -27.5400     Fermi   \n...         ...         ...       ...       ...      ...       ...   \n449   662509128  2021-12-29  22:18:43  185.0000 -18.4200     Fermi   \n928        9582  2021-12-30  11:37:07  156.1291 -54.8296  Integral   \n930        9583  2021-12-30  13:11:12  223.9821 -50.6995  Integral   \n929        9584  2021-12-30  13:43:49  220.5780 -53.3588  Integral   \n451   662626836  2021-12-31   7:00:32  292.1700 -24.9200     Fermi   \n\n                    time  \n0    1900-01-01 14:53:07  \n1    1900-01-01 20:39:24  \n1028 1900-01-01 00:17:13  \n1027 1900-01-01 20:38:11  \n2    1900-01-01 20:39:14  \n...                  ...  \n449  1900-01-01 22:18:43  \n928  1900-01-01 11:37:07  \n930  1900-01-01 13:11:12  \n929  1900-01-01 13:43:49  \n451  1900-01-01 07:00:32  \n\n[1029 rows x 7 columns]",
      "text/html": "<div>\n<style scoped>\n    .dataframe tbody tr th:only-of-type {\n        vertical-align: middle;\n    }\n\n    .dataframe tbody tr th {\n        vertical-align: top;\n    }\n\n    .dataframe thead th {\n        text-align: right;\n    }\n</style>\n<table border=\"1\" class=\"dataframe\">\n  <thead>\n    <tr style=\"text-align: right;\">\n      <th></th>\n      <th>Trig</th>\n      <th>Date</th>\n      <th>Time UT</th>\n      <th>Ra</th>\n      <th>Dec</th>\n      <th>Sat</th>\n      <th>time</th>\n    </tr>\n  </thead>\n  <tbody>\n    <tr>\n      <th>0</th>\n      <td>631205591</td>\n      <td>2021-01-01</td>\n      <td>14:53:07</td>\n      <td>136.7000</td>\n      <td>50.1000</td>\n      <td>Fermi</td>\n      <td>1900-01-01 14:53:07</td>\n    </tr>\n    <tr>\n      <th>1</th>\n      <td>631226368</td>\n      <td>2021-01-01</td>\n      <td>20:39:24</td>\n      <td>10.3000</td>\n      <td>-6.9100</td>\n      <td>Fermi</td>\n      <td>1900-01-01 20:39:24</td>\n    </tr>\n    <tr>\n      <th>1028</th>\n      <td>1015615</td>\n      <td>2021-01-02</td>\n      <td>0:17:13</td>\n      <td>234.7030</td>\n      <td>-84.1890</td>\n      <td>Swift</td>\n      <td>1900-01-01 00:17:13</td>\n    </tr>\n    <tr>\n      <th>1027</th>\n      <td>1015728</td>\n      <td>2021-01-02</td>\n      <td>20:38:11</td>\n      <td>235.7370</td>\n      <td>-37.2220</td>\n      <td>Swift</td>\n      <td>1900-01-01 20:38:11</td>\n    </tr>\n    <tr>\n      <th>2</th>\n      <td>631312759</td>\n      <td>2021-01-02</td>\n      <td>20:39:14</td>\n      <td>232.7000</td>\n      <td>-27.5400</td>\n      <td>Fermi</td>\n      <td>1900-01-01 20:39:14</td>\n    </tr>\n    <tr>\n      <th>...</th>\n      <td>...</td>\n      <td>...</td>\n      <td>...</td>\n      <td>...</td>\n      <td>...</td>\n      <td>...</td>\n      <td>...</td>\n    </tr>\n    <tr>\n      <th>449</th>\n      <td>662509128</td>\n      <td>2021-12-29</td>\n      <td>22:18:43</td>\n      <td>185.0000</td>\n      <td>-18.4200</td>\n      <td>Fermi</td>\n      <td>1900-01-01 22:18:43</td>\n    </tr>\n    <tr>\n      <th>928</th>\n      <td>9582</td>\n      <td>2021-12-30</td>\n      <td>11:37:07</td>\n      <td>156.1291</td>\n      <td>-54.8296</td>\n      <td>Integral</td>\n      <td>1900-01-01 11:37:07</td>\n    </tr>\n    <tr>\n      <th>930</th>\n      <td>9583</td>\n      <td>2021-12-30</td>\n      <td>13:11:12</td>\n      <td>223.9821</td>\n      <td>-50.6995</td>\n      <td>Integral</td>\n      <td>1900-01-01 13:11:12</td>\n    </tr>\n    <tr>\n      <th>929</th>\n      <td>9584</td>\n      <td>2021-12-30</td>\n      <td>13:43:49</td>\n      <td>220.5780</td>\n      <td>-53.3588</td>\n      <td>Integral</td>\n      <td>1900-01-01 13:43:49</td>\n    </tr>\n    <tr>\n      <th>451</th>\n      <td>662626836</td>\n      <td>2021-12-31</td>\n      <td>7:00:32</td>\n      <td>292.1700</td>\n      <td>-24.9200</td>\n      <td>Fermi</td>\n      <td>1900-01-01 07:00:32</td>\n    </tr>\n  </tbody>\n</table>\n<p>1029 rows × 7 columns</p>\n</div>"
     },
     "execution_count": 53,
     "metadata": {},
     "output_type": "execute_result"
    }
   ],
   "source": [
    "df3['time'] = pd.to_datetime(df3['Time UT'],format='%H:%M:%S')\n",
    "df3.sort_values(by=['Date','time'],ascending=[True,True])"
   ],
   "metadata": {
    "collapsed": false,
    "pycharm": {
     "name": "#%%\n"
    }
   }
  },
  {
   "cell_type": "markdown",
   "source": [],
   "metadata": {
    "collapsed": false,
    "pycharm": {
     "name": "#%% md\n"
    }
   }
  },
  {
   "cell_type": "code",
   "execution_count": 55,
   "outputs": [
    {
     "ename": "KeyError",
     "evalue": "'time'",
     "output_type": "error",
     "traceback": [
      "\u001B[0;31m---------------------------------------------------------------------------\u001B[0m",
      "\u001B[0;31mKeyError\u001B[0m                                  Traceback (most recent call last)",
      "File \u001B[0;32m~/opt/anaconda3/envs/torch_nightly_env/lib/python3.8/site-packages/pandas/core/indexes/base.py:3361\u001B[0m, in \u001B[0;36mIndex.get_loc\u001B[0;34m(self, key, method, tolerance)\u001B[0m\n\u001B[1;32m   3360\u001B[0m \u001B[38;5;28;01mtry\u001B[39;00m:\n\u001B[0;32m-> 3361\u001B[0m     \u001B[38;5;28;01mreturn\u001B[39;00m \u001B[38;5;28;43mself\u001B[39;49m\u001B[38;5;241;43m.\u001B[39;49m\u001B[43m_engine\u001B[49m\u001B[38;5;241;43m.\u001B[39;49m\u001B[43mget_loc\u001B[49m\u001B[43m(\u001B[49m\u001B[43mcasted_key\u001B[49m\u001B[43m)\u001B[49m\n\u001B[1;32m   3362\u001B[0m \u001B[38;5;28;01mexcept\u001B[39;00m \u001B[38;5;167;01mKeyError\u001B[39;00m \u001B[38;5;28;01mas\u001B[39;00m err:\n",
      "File \u001B[0;32m~/opt/anaconda3/envs/torch_nightly_env/lib/python3.8/site-packages/pandas/_libs/index.pyx:76\u001B[0m, in \u001B[0;36mpandas._libs.index.IndexEngine.get_loc\u001B[0;34m()\u001B[0m\n",
      "File \u001B[0;32m~/opt/anaconda3/envs/torch_nightly_env/lib/python3.8/site-packages/pandas/_libs/index.pyx:108\u001B[0m, in \u001B[0;36mpandas._libs.index.IndexEngine.get_loc\u001B[0;34m()\u001B[0m\n",
      "File \u001B[0;32mpandas/_libs/hashtable_class_helper.pxi:5198\u001B[0m, in \u001B[0;36mpandas._libs.hashtable.PyObjectHashTable.get_item\u001B[0;34m()\u001B[0m\n",
      "File \u001B[0;32mpandas/_libs/hashtable_class_helper.pxi:5206\u001B[0m, in \u001B[0;36mpandas._libs.hashtable.PyObjectHashTable.get_item\u001B[0;34m()\u001B[0m\n",
      "\u001B[0;31mKeyError\u001B[0m: 'time'",
      "\nThe above exception was the direct cause of the following exception:\n",
      "\u001B[0;31mKeyError\u001B[0m                                  Traceback (most recent call last)",
      "Cell \u001B[0;32mIn [55], line 1\u001B[0m\n\u001B[0;32m----> 1\u001B[0m \u001B[38;5;28;01mdel\u001B[39;00m df3[\u001B[38;5;124m'\u001B[39m\u001B[38;5;124mtime\u001B[39m\u001B[38;5;124m'\u001B[39m]\n\u001B[1;32m      2\u001B[0m df3\n",
      "File \u001B[0;32m~/opt/anaconda3/envs/torch_nightly_env/lib/python3.8/site-packages/pandas/core/generic.py:3960\u001B[0m, in \u001B[0;36mNDFrame.__delitem__\u001B[0;34m(self, key)\u001B[0m\n\u001B[1;32m   3955\u001B[0m             deleted \u001B[38;5;241m=\u001B[39m \u001B[38;5;28;01mTrue\u001B[39;00m\n\u001B[1;32m   3956\u001B[0m \u001B[38;5;28;01mif\u001B[39;00m \u001B[38;5;129;01mnot\u001B[39;00m deleted:\n\u001B[1;32m   3957\u001B[0m     \u001B[38;5;66;03m# If the above loop ran and didn't delete anything because\u001B[39;00m\n\u001B[1;32m   3958\u001B[0m     \u001B[38;5;66;03m# there was no match, this call should raise the appropriate\u001B[39;00m\n\u001B[1;32m   3959\u001B[0m     \u001B[38;5;66;03m# exception:\u001B[39;00m\n\u001B[0;32m-> 3960\u001B[0m     loc \u001B[38;5;241m=\u001B[39m \u001B[38;5;28;43mself\u001B[39;49m\u001B[38;5;241;43m.\u001B[39;49m\u001B[43maxes\u001B[49m\u001B[43m[\u001B[49m\u001B[38;5;241;43m-\u001B[39;49m\u001B[38;5;241;43m1\u001B[39;49m\u001B[43m]\u001B[49m\u001B[38;5;241;43m.\u001B[39;49m\u001B[43mget_loc\u001B[49m\u001B[43m(\u001B[49m\u001B[43mkey\u001B[49m\u001B[43m)\u001B[49m\n\u001B[1;32m   3961\u001B[0m     \u001B[38;5;28mself\u001B[39m\u001B[38;5;241m.\u001B[39m_mgr \u001B[38;5;241m=\u001B[39m \u001B[38;5;28mself\u001B[39m\u001B[38;5;241m.\u001B[39m_mgr\u001B[38;5;241m.\u001B[39midelete(loc)\n\u001B[1;32m   3963\u001B[0m \u001B[38;5;66;03m# delete from the caches\u001B[39;00m\n",
      "File \u001B[0;32m~/opt/anaconda3/envs/torch_nightly_env/lib/python3.8/site-packages/pandas/core/indexes/base.py:3363\u001B[0m, in \u001B[0;36mIndex.get_loc\u001B[0;34m(self, key, method, tolerance)\u001B[0m\n\u001B[1;32m   3361\u001B[0m         \u001B[38;5;28;01mreturn\u001B[39;00m \u001B[38;5;28mself\u001B[39m\u001B[38;5;241m.\u001B[39m_engine\u001B[38;5;241m.\u001B[39mget_loc(casted_key)\n\u001B[1;32m   3362\u001B[0m     \u001B[38;5;28;01mexcept\u001B[39;00m \u001B[38;5;167;01mKeyError\u001B[39;00m \u001B[38;5;28;01mas\u001B[39;00m err:\n\u001B[0;32m-> 3363\u001B[0m         \u001B[38;5;28;01mraise\u001B[39;00m \u001B[38;5;167;01mKeyError\u001B[39;00m(key) \u001B[38;5;28;01mfrom\u001B[39;00m \u001B[38;5;21;01merr\u001B[39;00m\n\u001B[1;32m   3365\u001B[0m \u001B[38;5;28;01mif\u001B[39;00m is_scalar(key) \u001B[38;5;129;01mand\u001B[39;00m isna(key) \u001B[38;5;129;01mand\u001B[39;00m \u001B[38;5;129;01mnot\u001B[39;00m \u001B[38;5;28mself\u001B[39m\u001B[38;5;241m.\u001B[39mhasnans:\n\u001B[1;32m   3366\u001B[0m     \u001B[38;5;28;01mraise\u001B[39;00m \u001B[38;5;167;01mKeyError\u001B[39;00m(key)\n",
      "\u001B[0;31mKeyError\u001B[0m: 'time'"
     ]
    }
   ],
   "source": [
    "del df3['time']"
   ],
   "metadata": {
    "collapsed": false,
    "pycharm": {
     "name": "#%%\n"
    }
   }
  },
  {
   "cell_type": "code",
   "execution_count": 56,
   "outputs": [
    {
     "data": {
      "text/plain": "           Trig        Date   Time UT        Ra      Dec    Sat\n0     631205591  2021-01-01  14:53:07  136.7000  50.1000  Fermi\n1     631226368  2021-01-01  20:39:24   10.3000  -6.9100  Fermi\n2     631312759  2021-01-02  20:39:14  232.7000 -27.5400  Fermi\n3     631452424  2021-01-04  11:27:00  110.7700  68.7200  Fermi\n4     631555390  2021-01-05  16:03:06   70.9900 -36.8300  Fermi\n...         ...         ...       ...       ...      ...    ...\n1024    1016010  2021-01-05  11:55:02  244.9780 -15.8440  Swift\n1025    1015919  2021-01-04  21:10:11   53.5538  37.9301  Swift\n1026    1015873  2021-01-04  11:26:59  103.7050  64.6610  Swift\n1027    1015728  2021-01-02  20:38:11  235.7370 -37.2220  Swift\n1028    1015615  2021-01-02   0:17:13  234.7030 -84.1890  Swift\n\n[1029 rows x 6 columns]",
      "text/html": "<div>\n<style scoped>\n    .dataframe tbody tr th:only-of-type {\n        vertical-align: middle;\n    }\n\n    .dataframe tbody tr th {\n        vertical-align: top;\n    }\n\n    .dataframe thead th {\n        text-align: right;\n    }\n</style>\n<table border=\"1\" class=\"dataframe\">\n  <thead>\n    <tr style=\"text-align: right;\">\n      <th></th>\n      <th>Trig</th>\n      <th>Date</th>\n      <th>Time UT</th>\n      <th>Ra</th>\n      <th>Dec</th>\n      <th>Sat</th>\n    </tr>\n  </thead>\n  <tbody>\n    <tr>\n      <th>0</th>\n      <td>631205591</td>\n      <td>2021-01-01</td>\n      <td>14:53:07</td>\n      <td>136.7000</td>\n      <td>50.1000</td>\n      <td>Fermi</td>\n    </tr>\n    <tr>\n      <th>1</th>\n      <td>631226368</td>\n      <td>2021-01-01</td>\n      <td>20:39:24</td>\n      <td>10.3000</td>\n      <td>-6.9100</td>\n      <td>Fermi</td>\n    </tr>\n    <tr>\n      <th>2</th>\n      <td>631312759</td>\n      <td>2021-01-02</td>\n      <td>20:39:14</td>\n      <td>232.7000</td>\n      <td>-27.5400</td>\n      <td>Fermi</td>\n    </tr>\n    <tr>\n      <th>3</th>\n      <td>631452424</td>\n      <td>2021-01-04</td>\n      <td>11:27:00</td>\n      <td>110.7700</td>\n      <td>68.7200</td>\n      <td>Fermi</td>\n    </tr>\n    <tr>\n      <th>4</th>\n      <td>631555390</td>\n      <td>2021-01-05</td>\n      <td>16:03:06</td>\n      <td>70.9900</td>\n      <td>-36.8300</td>\n      <td>Fermi</td>\n    </tr>\n    <tr>\n      <th>...</th>\n      <td>...</td>\n      <td>...</td>\n      <td>...</td>\n      <td>...</td>\n      <td>...</td>\n      <td>...</td>\n    </tr>\n    <tr>\n      <th>1024</th>\n      <td>1016010</td>\n      <td>2021-01-05</td>\n      <td>11:55:02</td>\n      <td>244.9780</td>\n      <td>-15.8440</td>\n      <td>Swift</td>\n    </tr>\n    <tr>\n      <th>1025</th>\n      <td>1015919</td>\n      <td>2021-01-04</td>\n      <td>21:10:11</td>\n      <td>53.5538</td>\n      <td>37.9301</td>\n      <td>Swift</td>\n    </tr>\n    <tr>\n      <th>1026</th>\n      <td>1015873</td>\n      <td>2021-01-04</td>\n      <td>11:26:59</td>\n      <td>103.7050</td>\n      <td>64.6610</td>\n      <td>Swift</td>\n    </tr>\n    <tr>\n      <th>1027</th>\n      <td>1015728</td>\n      <td>2021-01-02</td>\n      <td>20:38:11</td>\n      <td>235.7370</td>\n      <td>-37.2220</td>\n      <td>Swift</td>\n    </tr>\n    <tr>\n      <th>1028</th>\n      <td>1015615</td>\n      <td>2021-01-02</td>\n      <td>0:17:13</td>\n      <td>234.7030</td>\n      <td>-84.1890</td>\n      <td>Swift</td>\n    </tr>\n  </tbody>\n</table>\n<p>1029 rows × 6 columns</p>\n</div>"
     },
     "execution_count": 56,
     "metadata": {},
     "output_type": "execute_result"
    }
   ],
   "source": [
    "df3"
   ],
   "metadata": {
    "collapsed": false,
    "pycharm": {
     "name": "#%%\n"
    }
   }
  },
  {
   "cell_type": "code",
   "execution_count": 57,
   "outputs": [],
   "source": [
    "df3.to_csv('Fermi+Integral+Swift2021.csv')"
   ],
   "metadata": {
    "collapsed": false,
    "pycharm": {
     "name": "#%%\n"
    }
   }
  },
  {
   "cell_type": "code",
   "execution_count": 58,
   "outputs": [
    {
     "data": {
      "text/plain": "           Trig        Date   Time UT        Ra      Dec    Sat\n0     631205591  2021-01-01  14:53:07  136.7000  50.1000  Fermi\n1     631226368  2021-01-01  20:39:24   10.3000  -6.9100  Fermi\n2     631312759  2021-01-02  20:39:14  232.7000 -27.5400  Fermi\n3     631452424  2021-01-04  11:27:00  110.7700  68.7200  Fermi\n4     631555390  2021-01-05  16:03:06   70.9900 -36.8300  Fermi\n...         ...         ...       ...       ...      ...    ...\n1024    1016010  2021-01-05  11:55:02  244.9780 -15.8440  Swift\n1025    1015919  2021-01-04  21:10:11   53.5538  37.9301  Swift\n1026    1015873  2021-01-04  11:26:59  103.7050  64.6610  Swift\n1027    1015728  2021-01-02  20:38:11  235.7370 -37.2220  Swift\n1028    1015615  2021-01-02   0:17:13  234.7030 -84.1890  Swift\n\n[1029 rows x 6 columns]",
      "text/html": "<div>\n<style scoped>\n    .dataframe tbody tr th:only-of-type {\n        vertical-align: middle;\n    }\n\n    .dataframe tbody tr th {\n        vertical-align: top;\n    }\n\n    .dataframe thead th {\n        text-align: right;\n    }\n</style>\n<table border=\"1\" class=\"dataframe\">\n  <thead>\n    <tr style=\"text-align: right;\">\n      <th></th>\n      <th>Trig</th>\n      <th>Date</th>\n      <th>Time UT</th>\n      <th>Ra</th>\n      <th>Dec</th>\n      <th>Sat</th>\n    </tr>\n  </thead>\n  <tbody>\n    <tr>\n      <th>0</th>\n      <td>631205591</td>\n      <td>2021-01-01</td>\n      <td>14:53:07</td>\n      <td>136.7000</td>\n      <td>50.1000</td>\n      <td>Fermi</td>\n    </tr>\n    <tr>\n      <th>1</th>\n      <td>631226368</td>\n      <td>2021-01-01</td>\n      <td>20:39:24</td>\n      <td>10.3000</td>\n      <td>-6.9100</td>\n      <td>Fermi</td>\n    </tr>\n    <tr>\n      <th>2</th>\n      <td>631312759</td>\n      <td>2021-01-02</td>\n      <td>20:39:14</td>\n      <td>232.7000</td>\n      <td>-27.5400</td>\n      <td>Fermi</td>\n    </tr>\n    <tr>\n      <th>3</th>\n      <td>631452424</td>\n      <td>2021-01-04</td>\n      <td>11:27:00</td>\n      <td>110.7700</td>\n      <td>68.7200</td>\n      <td>Fermi</td>\n    </tr>\n    <tr>\n      <th>4</th>\n      <td>631555390</td>\n      <td>2021-01-05</td>\n      <td>16:03:06</td>\n      <td>70.9900</td>\n      <td>-36.8300</td>\n      <td>Fermi</td>\n    </tr>\n    <tr>\n      <th>...</th>\n      <td>...</td>\n      <td>...</td>\n      <td>...</td>\n      <td>...</td>\n      <td>...</td>\n      <td>...</td>\n    </tr>\n    <tr>\n      <th>1024</th>\n      <td>1016010</td>\n      <td>2021-01-05</td>\n      <td>11:55:02</td>\n      <td>244.9780</td>\n      <td>-15.8440</td>\n      <td>Swift</td>\n    </tr>\n    <tr>\n      <th>1025</th>\n      <td>1015919</td>\n      <td>2021-01-04</td>\n      <td>21:10:11</td>\n      <td>53.5538</td>\n      <td>37.9301</td>\n      <td>Swift</td>\n    </tr>\n    <tr>\n      <th>1026</th>\n      <td>1015873</td>\n      <td>2021-01-04</td>\n      <td>11:26:59</td>\n      <td>103.7050</td>\n      <td>64.6610</td>\n      <td>Swift</td>\n    </tr>\n    <tr>\n      <th>1027</th>\n      <td>1015728</td>\n      <td>2021-01-02</td>\n      <td>20:38:11</td>\n      <td>235.7370</td>\n      <td>-37.2220</td>\n      <td>Swift</td>\n    </tr>\n    <tr>\n      <th>1028</th>\n      <td>1015615</td>\n      <td>2021-01-02</td>\n      <td>0:17:13</td>\n      <td>234.7030</td>\n      <td>-84.1890</td>\n      <td>Swift</td>\n    </tr>\n  </tbody>\n</table>\n<p>1029 rows × 6 columns</p>\n</div>"
     },
     "execution_count": 58,
     "metadata": {},
     "output_type": "execute_result"
    }
   ],
   "source": [
    "# ######################\n",
    "# 统计每日爆发\n",
    "df = df3\n",
    "df"
   ],
   "metadata": {
    "collapsed": false,
    "pycharm": {
     "name": "#%%\n"
    }
   }
  },
  {
   "cell_type": "code",
   "execution_count": 77,
   "outputs": [
    {
     "data": {
      "text/plain": "<BarContainer object of 326 artists>"
     },
     "execution_count": 77,
     "metadata": {},
     "output_type": "execute_result"
    },
    {
     "data": {
      "text/plain": "<Figure size 640x480 with 1 Axes>",
      "image/png": "[encoded data removed]"
     },
     "metadata": {},
     "output_type": "display_data"
    }
   ],
   "source": [
    "from matplotlib import pyplot as plt\n",
    "from collections import Counter\n",
    "result = Counter(df['Date'])\n",
    "plt.bar(result.keys(),result.values())\n"
   ],
   "metadata": {
    "collapsed": false,
    "pycharm": {
     "name": "#%%\n"
    }
   }
  },
  {
   "cell_type": "code",
   "execution_count": null,
   "outputs": [],
   "source": [],
   "metadata": {
    "collapsed": false,
    "pycharm": {
     "name": "#%%\n"
    }
   }
  }
 ],
 "metadata": {
  "kernelspec": {
   "display_name": "Python 3",
   "language": "python",
   "name": "python3"
  },
  "language_info": {
   "codemirror_mode": {
    "name": "ipython",
    "version": 2
   },
   "file_extension": ".py",
   "mimetype": "text/x-python",
   "name": "python",
   "nbconvert_exporter": "python",
   "pygments_lexer": "ipython2",
   "version": "2.7.6"
  }
 },
 "nbformat": 4,
 "nbformat_minor": 0
}